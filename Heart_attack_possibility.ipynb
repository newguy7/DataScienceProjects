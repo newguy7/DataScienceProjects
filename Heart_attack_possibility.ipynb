{
  "nbformat": 4,
  "nbformat_minor": 0,
  "metadata": {
    "colab": {
      "provenance": [],
      "authorship_tag": "ABX9TyN5GgrB8bbSScJJ/v80Trh2",
      "include_colab_link": true
    },
    "kernelspec": {
      "name": "python3",
      "display_name": "Python 3"
    },
    "language_info": {
      "name": "python"
    }
  },
  "cells": [
    {
      "cell_type": "markdown",
      "metadata": {
        "id": "view-in-github",
        "colab_type": "text"
      },
      "source": [
        "<a href=\"https://colab.research.google.com/github/newguy7/DataScienceProjects/blob/main/Heart_attack_possibility.ipynb\" target=\"_parent\"><img src=\"https://colab.research.google.com/assets/colab-badge.svg\" alt=\"Open In Colab\"/></a>"
      ]
    },
    {
      "cell_type": "code",
      "execution_count": null,
      "metadata": {
        "id": "I62p9K8zCVB5"
      },
      "outputs": [],
      "source": [
        "import pandas as pd"
      ]
    },
    {
      "cell_type": "code",
      "source": [
        "# load the dataset\n",
        "data = pd.read_csv('heart.csv')\n",
        "\n",
        "data.head(n=10)"
      ],
      "metadata": {
        "colab": {
          "base_uri": "https://localhost:8080/",
          "height": 363
        },
        "id": "jrB-8SVBCsXa",
        "outputId": "ed620e0a-829f-4258-d42b-c14cbdf242da"
      },
      "execution_count": null,
      "outputs": [
        {
          "output_type": "execute_result",
          "data": {
            "text/plain": [
              "   age  sex  cp  trestbps  chol  fbs  restecg  thalach  exang  oldpeak  slope  \\\n",
              "0   63    1   3       145   233    1        0      150      0      2.3      0   \n",
              "1   37    1   2       130   250    0        1      187      0      3.5      0   \n",
              "2   41    0   1       130   204    0        0      172      0      1.4      2   \n",
              "3   56    1   1       120   236    0        1      178      0      0.8      2   \n",
              "4   57    0   0       120   354    0        1      163      1      0.6      2   \n",
              "5   57    1   0       140   192    0        1      148      0      0.4      1   \n",
              "6   56    0   1       140   294    0        0      153      0      1.3      1   \n",
              "7   44    1   1       120   263    0        1      173      0      0.0      2   \n",
              "8   52    1   2       172   199    1        1      162      0      0.5      2   \n",
              "9   57    1   2       150   168    0        1      174      0      1.6      2   \n",
              "\n",
              "   ca  thal  target  \n",
              "0   0     1       1  \n",
              "1   0     2       1  \n",
              "2   0     2       1  \n",
              "3   0     2       1  \n",
              "4   0     2       1  \n",
              "5   0     1       1  \n",
              "6   0     2       1  \n",
              "7   0     3       1  \n",
              "8   0     3       1  \n",
              "9   0     2       1  "
            ],
            "text/html": [
              "\n",
              "  <div id=\"df-565b2487-4b45-4803-9fdc-e000d046db3c\" class=\"colab-df-container\">\n",
              "    <div>\n",
              "<style scoped>\n",
              "    .dataframe tbody tr th:only-of-type {\n",
              "        vertical-align: middle;\n",
              "    }\n",
              "\n",
              "    .dataframe tbody tr th {\n",
              "        vertical-align: top;\n",
              "    }\n",
              "\n",
              "    .dataframe thead th {\n",
              "        text-align: right;\n",
              "    }\n",
              "</style>\n",
              "<table border=\"1\" class=\"dataframe\">\n",
              "  <thead>\n",
              "    <tr style=\"text-align: right;\">\n",
              "      <th></th>\n",
              "      <th>age</th>\n",
              "      <th>sex</th>\n",
              "      <th>cp</th>\n",
              "      <th>trestbps</th>\n",
              "      <th>chol</th>\n",
              "      <th>fbs</th>\n",
              "      <th>restecg</th>\n",
              "      <th>thalach</th>\n",
              "      <th>exang</th>\n",
              "      <th>oldpeak</th>\n",
              "      <th>slope</th>\n",
              "      <th>ca</th>\n",
              "      <th>thal</th>\n",
              "      <th>target</th>\n",
              "    </tr>\n",
              "  </thead>\n",
              "  <tbody>\n",
              "    <tr>\n",
              "      <th>0</th>\n",
              "      <td>63</td>\n",
              "      <td>1</td>\n",
              "      <td>3</td>\n",
              "      <td>145</td>\n",
              "      <td>233</td>\n",
              "      <td>1</td>\n",
              "      <td>0</td>\n",
              "      <td>150</td>\n",
              "      <td>0</td>\n",
              "      <td>2.3</td>\n",
              "      <td>0</td>\n",
              "      <td>0</td>\n",
              "      <td>1</td>\n",
              "      <td>1</td>\n",
              "    </tr>\n",
              "    <tr>\n",
              "      <th>1</th>\n",
              "      <td>37</td>\n",
              "      <td>1</td>\n",
              "      <td>2</td>\n",
              "      <td>130</td>\n",
              "      <td>250</td>\n",
              "      <td>0</td>\n",
              "      <td>1</td>\n",
              "      <td>187</td>\n",
              "      <td>0</td>\n",
              "      <td>3.5</td>\n",
              "      <td>0</td>\n",
              "      <td>0</td>\n",
              "      <td>2</td>\n",
              "      <td>1</td>\n",
              "    </tr>\n",
              "    <tr>\n",
              "      <th>2</th>\n",
              "      <td>41</td>\n",
              "      <td>0</td>\n",
              "      <td>1</td>\n",
              "      <td>130</td>\n",
              "      <td>204</td>\n",
              "      <td>0</td>\n",
              "      <td>0</td>\n",
              "      <td>172</td>\n",
              "      <td>0</td>\n",
              "      <td>1.4</td>\n",
              "      <td>2</td>\n",
              "      <td>0</td>\n",
              "      <td>2</td>\n",
              "      <td>1</td>\n",
              "    </tr>\n",
              "    <tr>\n",
              "      <th>3</th>\n",
              "      <td>56</td>\n",
              "      <td>1</td>\n",
              "      <td>1</td>\n",
              "      <td>120</td>\n",
              "      <td>236</td>\n",
              "      <td>0</td>\n",
              "      <td>1</td>\n",
              "      <td>178</td>\n",
              "      <td>0</td>\n",
              "      <td>0.8</td>\n",
              "      <td>2</td>\n",
              "      <td>0</td>\n",
              "      <td>2</td>\n",
              "      <td>1</td>\n",
              "    </tr>\n",
              "    <tr>\n",
              "      <th>4</th>\n",
              "      <td>57</td>\n",
              "      <td>0</td>\n",
              "      <td>0</td>\n",
              "      <td>120</td>\n",
              "      <td>354</td>\n",
              "      <td>0</td>\n",
              "      <td>1</td>\n",
              "      <td>163</td>\n",
              "      <td>1</td>\n",
              "      <td>0.6</td>\n",
              "      <td>2</td>\n",
              "      <td>0</td>\n",
              "      <td>2</td>\n",
              "      <td>1</td>\n",
              "    </tr>\n",
              "    <tr>\n",
              "      <th>5</th>\n",
              "      <td>57</td>\n",
              "      <td>1</td>\n",
              "      <td>0</td>\n",
              "      <td>140</td>\n",
              "      <td>192</td>\n",
              "      <td>0</td>\n",
              "      <td>1</td>\n",
              "      <td>148</td>\n",
              "      <td>0</td>\n",
              "      <td>0.4</td>\n",
              "      <td>1</td>\n",
              "      <td>0</td>\n",
              "      <td>1</td>\n",
              "      <td>1</td>\n",
              "    </tr>\n",
              "    <tr>\n",
              "      <th>6</th>\n",
              "      <td>56</td>\n",
              "      <td>0</td>\n",
              "      <td>1</td>\n",
              "      <td>140</td>\n",
              "      <td>294</td>\n",
              "      <td>0</td>\n",
              "      <td>0</td>\n",
              "      <td>153</td>\n",
              "      <td>0</td>\n",
              "      <td>1.3</td>\n",
              "      <td>1</td>\n",
              "      <td>0</td>\n",
              "      <td>2</td>\n",
              "      <td>1</td>\n",
              "    </tr>\n",
              "    <tr>\n",
              "      <th>7</th>\n",
              "      <td>44</td>\n",
              "      <td>1</td>\n",
              "      <td>1</td>\n",
              "      <td>120</td>\n",
              "      <td>263</td>\n",
              "      <td>0</td>\n",
              "      <td>1</td>\n",
              "      <td>173</td>\n",
              "      <td>0</td>\n",
              "      <td>0.0</td>\n",
              "      <td>2</td>\n",
              "      <td>0</td>\n",
              "      <td>3</td>\n",
              "      <td>1</td>\n",
              "    </tr>\n",
              "    <tr>\n",
              "      <th>8</th>\n",
              "      <td>52</td>\n",
              "      <td>1</td>\n",
              "      <td>2</td>\n",
              "      <td>172</td>\n",
              "      <td>199</td>\n",
              "      <td>1</td>\n",
              "      <td>1</td>\n",
              "      <td>162</td>\n",
              "      <td>0</td>\n",
              "      <td>0.5</td>\n",
              "      <td>2</td>\n",
              "      <td>0</td>\n",
              "      <td>3</td>\n",
              "      <td>1</td>\n",
              "    </tr>\n",
              "    <tr>\n",
              "      <th>9</th>\n",
              "      <td>57</td>\n",
              "      <td>1</td>\n",
              "      <td>2</td>\n",
              "      <td>150</td>\n",
              "      <td>168</td>\n",
              "      <td>0</td>\n",
              "      <td>1</td>\n",
              "      <td>174</td>\n",
              "      <td>0</td>\n",
              "      <td>1.6</td>\n",
              "      <td>2</td>\n",
              "      <td>0</td>\n",
              "      <td>2</td>\n",
              "      <td>1</td>\n",
              "    </tr>\n",
              "  </tbody>\n",
              "</table>\n",
              "</div>\n",
              "    <div class=\"colab-df-buttons\">\n",
              "\n",
              "  <div class=\"colab-df-container\">\n",
              "    <button class=\"colab-df-convert\" onclick=\"convertToInteractive('df-565b2487-4b45-4803-9fdc-e000d046db3c')\"\n",
              "            title=\"Convert this dataframe to an interactive table.\"\n",
              "            style=\"display:none;\">\n",
              "\n",
              "  <svg xmlns=\"http://www.w3.org/2000/svg\" height=\"24px\" viewBox=\"0 -960 960 960\">\n",
              "    <path d=\"M120-120v-720h720v720H120Zm60-500h600v-160H180v160Zm220 220h160v-160H400v160Zm0 220h160v-160H400v160ZM180-400h160v-160H180v160Zm440 0h160v-160H620v160ZM180-180h160v-160H180v160Zm440 0h160v-160H620v160Z\"/>\n",
              "  </svg>\n",
              "    </button>\n",
              "\n",
              "  <style>\n",
              "    .colab-df-container {\n",
              "      display:flex;\n",
              "      gap: 12px;\n",
              "    }\n",
              "\n",
              "    .colab-df-convert {\n",
              "      background-color: #E8F0FE;\n",
              "      border: none;\n",
              "      border-radius: 50%;\n",
              "      cursor: pointer;\n",
              "      display: none;\n",
              "      fill: #1967D2;\n",
              "      height: 32px;\n",
              "      padding: 0 0 0 0;\n",
              "      width: 32px;\n",
              "    }\n",
              "\n",
              "    .colab-df-convert:hover {\n",
              "      background-color: #E2EBFA;\n",
              "      box-shadow: 0px 1px 2px rgba(60, 64, 67, 0.3), 0px 1px 3px 1px rgba(60, 64, 67, 0.15);\n",
              "      fill: #174EA6;\n",
              "    }\n",
              "\n",
              "    .colab-df-buttons div {\n",
              "      margin-bottom: 4px;\n",
              "    }\n",
              "\n",
              "    [theme=dark] .colab-df-convert {\n",
              "      background-color: #3B4455;\n",
              "      fill: #D2E3FC;\n",
              "    }\n",
              "\n",
              "    [theme=dark] .colab-df-convert:hover {\n",
              "      background-color: #434B5C;\n",
              "      box-shadow: 0px 1px 3px 1px rgba(0, 0, 0, 0.15);\n",
              "      filter: drop-shadow(0px 1px 2px rgba(0, 0, 0, 0.3));\n",
              "      fill: #FFFFFF;\n",
              "    }\n",
              "  </style>\n",
              "\n",
              "    <script>\n",
              "      const buttonEl =\n",
              "        document.querySelector('#df-565b2487-4b45-4803-9fdc-e000d046db3c button.colab-df-convert');\n",
              "      buttonEl.style.display =\n",
              "        google.colab.kernel.accessAllowed ? 'block' : 'none';\n",
              "\n",
              "      async function convertToInteractive(key) {\n",
              "        const element = document.querySelector('#df-565b2487-4b45-4803-9fdc-e000d046db3c');\n",
              "        const dataTable =\n",
              "          await google.colab.kernel.invokeFunction('convertToInteractive',\n",
              "                                                    [key], {});\n",
              "        if (!dataTable) return;\n",
              "\n",
              "        const docLinkHtml = 'Like what you see? Visit the ' +\n",
              "          '<a target=\"_blank\" href=https://colab.research.google.com/notebooks/data_table.ipynb>data table notebook</a>'\n",
              "          + ' to learn more about interactive tables.';\n",
              "        element.innerHTML = '';\n",
              "        dataTable['output_type'] = 'display_data';\n",
              "        await google.colab.output.renderOutput(dataTable, element);\n",
              "        const docLink = document.createElement('div');\n",
              "        docLink.innerHTML = docLinkHtml;\n",
              "        element.appendChild(docLink);\n",
              "      }\n",
              "    </script>\n",
              "  </div>\n",
              "\n",
              "\n",
              "<div id=\"df-49cfb715-3d4d-47b7-b4e8-fb44b8850557\">\n",
              "  <button class=\"colab-df-quickchart\" onclick=\"quickchart('df-49cfb715-3d4d-47b7-b4e8-fb44b8850557')\"\n",
              "            title=\"Suggest charts\"\n",
              "            style=\"display:none;\">\n",
              "\n",
              "<svg xmlns=\"http://www.w3.org/2000/svg\" height=\"24px\"viewBox=\"0 0 24 24\"\n",
              "     width=\"24px\">\n",
              "    <g>\n",
              "        <path d=\"M19 3H5c-1.1 0-2 .9-2 2v14c0 1.1.9 2 2 2h14c1.1 0 2-.9 2-2V5c0-1.1-.9-2-2-2zM9 17H7v-7h2v7zm4 0h-2V7h2v10zm4 0h-2v-4h2v4z\"/>\n",
              "    </g>\n",
              "</svg>\n",
              "  </button>\n",
              "\n",
              "<style>\n",
              "  .colab-df-quickchart {\n",
              "      --bg-color: #E8F0FE;\n",
              "      --fill-color: #1967D2;\n",
              "      --hover-bg-color: #E2EBFA;\n",
              "      --hover-fill-color: #174EA6;\n",
              "      --disabled-fill-color: #AAA;\n",
              "      --disabled-bg-color: #DDD;\n",
              "  }\n",
              "\n",
              "  [theme=dark] .colab-df-quickchart {\n",
              "      --bg-color: #3B4455;\n",
              "      --fill-color: #D2E3FC;\n",
              "      --hover-bg-color: #434B5C;\n",
              "      --hover-fill-color: #FFFFFF;\n",
              "      --disabled-bg-color: #3B4455;\n",
              "      --disabled-fill-color: #666;\n",
              "  }\n",
              "\n",
              "  .colab-df-quickchart {\n",
              "    background-color: var(--bg-color);\n",
              "    border: none;\n",
              "    border-radius: 50%;\n",
              "    cursor: pointer;\n",
              "    display: none;\n",
              "    fill: var(--fill-color);\n",
              "    height: 32px;\n",
              "    padding: 0;\n",
              "    width: 32px;\n",
              "  }\n",
              "\n",
              "  .colab-df-quickchart:hover {\n",
              "    background-color: var(--hover-bg-color);\n",
              "    box-shadow: 0 1px 2px rgba(60, 64, 67, 0.3), 0 1px 3px 1px rgba(60, 64, 67, 0.15);\n",
              "    fill: var(--button-hover-fill-color);\n",
              "  }\n",
              "\n",
              "  .colab-df-quickchart-complete:disabled,\n",
              "  .colab-df-quickchart-complete:disabled:hover {\n",
              "    background-color: var(--disabled-bg-color);\n",
              "    fill: var(--disabled-fill-color);\n",
              "    box-shadow: none;\n",
              "  }\n",
              "\n",
              "  .colab-df-spinner {\n",
              "    border: 2px solid var(--fill-color);\n",
              "    border-color: transparent;\n",
              "    border-bottom-color: var(--fill-color);\n",
              "    animation:\n",
              "      spin 1s steps(1) infinite;\n",
              "  }\n",
              "\n",
              "  @keyframes spin {\n",
              "    0% {\n",
              "      border-color: transparent;\n",
              "      border-bottom-color: var(--fill-color);\n",
              "      border-left-color: var(--fill-color);\n",
              "    }\n",
              "    20% {\n",
              "      border-color: transparent;\n",
              "      border-left-color: var(--fill-color);\n",
              "      border-top-color: var(--fill-color);\n",
              "    }\n",
              "    30% {\n",
              "      border-color: transparent;\n",
              "      border-left-color: var(--fill-color);\n",
              "      border-top-color: var(--fill-color);\n",
              "      border-right-color: var(--fill-color);\n",
              "    }\n",
              "    40% {\n",
              "      border-color: transparent;\n",
              "      border-right-color: var(--fill-color);\n",
              "      border-top-color: var(--fill-color);\n",
              "    }\n",
              "    60% {\n",
              "      border-color: transparent;\n",
              "      border-right-color: var(--fill-color);\n",
              "    }\n",
              "    80% {\n",
              "      border-color: transparent;\n",
              "      border-right-color: var(--fill-color);\n",
              "      border-bottom-color: var(--fill-color);\n",
              "    }\n",
              "    90% {\n",
              "      border-color: transparent;\n",
              "      border-bottom-color: var(--fill-color);\n",
              "    }\n",
              "  }\n",
              "</style>\n",
              "\n",
              "  <script>\n",
              "    async function quickchart(key) {\n",
              "      const quickchartButtonEl =\n",
              "        document.querySelector('#' + key + ' button');\n",
              "      quickchartButtonEl.disabled = true;  // To prevent multiple clicks.\n",
              "      quickchartButtonEl.classList.add('colab-df-spinner');\n",
              "      try {\n",
              "        const charts = await google.colab.kernel.invokeFunction(\n",
              "            'suggestCharts', [key], {});\n",
              "      } catch (error) {\n",
              "        console.error('Error during call to suggestCharts:', error);\n",
              "      }\n",
              "      quickchartButtonEl.classList.remove('colab-df-spinner');\n",
              "      quickchartButtonEl.classList.add('colab-df-quickchart-complete');\n",
              "    }\n",
              "    (() => {\n",
              "      let quickchartButtonEl =\n",
              "        document.querySelector('#df-49cfb715-3d4d-47b7-b4e8-fb44b8850557 button');\n",
              "      quickchartButtonEl.style.display =\n",
              "        google.colab.kernel.accessAllowed ? 'block' : 'none';\n",
              "    })();\n",
              "  </script>\n",
              "</div>\n",
              "\n",
              "    </div>\n",
              "  </div>\n"
            ],
            "application/vnd.google.colaboratory.intrinsic+json": {
              "type": "dataframe",
              "variable_name": "data",
              "summary": "{\n  \"name\": \"data\",\n  \"rows\": 303,\n  \"fields\": [\n    {\n      \"column\": \"age\",\n      \"properties\": {\n        \"dtype\": \"number\",\n        \"std\": 9,\n        \"min\": 29,\n        \"max\": 77,\n        \"num_unique_values\": 41,\n        \"samples\": [\n          46,\n          66,\n          48\n        ],\n        \"semantic_type\": \"\",\n        \"description\": \"\"\n      }\n    },\n    {\n      \"column\": \"sex\",\n      \"properties\": {\n        \"dtype\": \"number\",\n        \"std\": 0,\n        \"min\": 0,\n        \"max\": 1,\n        \"num_unique_values\": 2,\n        \"samples\": [\n          0,\n          1\n        ],\n        \"semantic_type\": \"\",\n        \"description\": \"\"\n      }\n    },\n    {\n      \"column\": \"cp\",\n      \"properties\": {\n        \"dtype\": \"number\",\n        \"std\": 1,\n        \"min\": 0,\n        \"max\": 3,\n        \"num_unique_values\": 4,\n        \"samples\": [\n          2,\n          0\n        ],\n        \"semantic_type\": \"\",\n        \"description\": \"\"\n      }\n    },\n    {\n      \"column\": \"trestbps\",\n      \"properties\": {\n        \"dtype\": \"number\",\n        \"std\": 17,\n        \"min\": 94,\n        \"max\": 200,\n        \"num_unique_values\": 49,\n        \"samples\": [\n          104,\n          123\n        ],\n        \"semantic_type\": \"\",\n        \"description\": \"\"\n      }\n    },\n    {\n      \"column\": \"chol\",\n      \"properties\": {\n        \"dtype\": \"number\",\n        \"std\": 51,\n        \"min\": 126,\n        \"max\": 564,\n        \"num_unique_values\": 152,\n        \"samples\": [\n          277,\n          169\n        ],\n        \"semantic_type\": \"\",\n        \"description\": \"\"\n      }\n    },\n    {\n      \"column\": \"fbs\",\n      \"properties\": {\n        \"dtype\": \"number\",\n        \"std\": 0,\n        \"min\": 0,\n        \"max\": 1,\n        \"num_unique_values\": 2,\n        \"samples\": [\n          0,\n          1\n        ],\n        \"semantic_type\": \"\",\n        \"description\": \"\"\n      }\n    },\n    {\n      \"column\": \"restecg\",\n      \"properties\": {\n        \"dtype\": \"number\",\n        \"std\": 0,\n        \"min\": 0,\n        \"max\": 2,\n        \"num_unique_values\": 3,\n        \"samples\": [\n          0,\n          1\n        ],\n        \"semantic_type\": \"\",\n        \"description\": \"\"\n      }\n    },\n    {\n      \"column\": \"thalach\",\n      \"properties\": {\n        \"dtype\": \"number\",\n        \"std\": 22,\n        \"min\": 71,\n        \"max\": 202,\n        \"num_unique_values\": 91,\n        \"samples\": [\n          159,\n          152\n        ],\n        \"semantic_type\": \"\",\n        \"description\": \"\"\n      }\n    },\n    {\n      \"column\": \"exang\",\n      \"properties\": {\n        \"dtype\": \"number\",\n        \"std\": 0,\n        \"min\": 0,\n        \"max\": 1,\n        \"num_unique_values\": 2,\n        \"samples\": [\n          1,\n          0\n        ],\n        \"semantic_type\": \"\",\n        \"description\": \"\"\n      }\n    },\n    {\n      \"column\": \"oldpeak\",\n      \"properties\": {\n        \"dtype\": \"number\",\n        \"std\": 1.1610750220686348,\n        \"min\": 0.0,\n        \"max\": 6.2,\n        \"num_unique_values\": 40,\n        \"samples\": [\n          1.9,\n          3.0\n        ],\n        \"semantic_type\": \"\",\n        \"description\": \"\"\n      }\n    },\n    {\n      \"column\": \"slope\",\n      \"properties\": {\n        \"dtype\": \"number\",\n        \"std\": 0,\n        \"min\": 0,\n        \"max\": 2,\n        \"num_unique_values\": 3,\n        \"samples\": [\n          0,\n          2\n        ],\n        \"semantic_type\": \"\",\n        \"description\": \"\"\n      }\n    },\n    {\n      \"column\": \"ca\",\n      \"properties\": {\n        \"dtype\": \"number\",\n        \"std\": 1,\n        \"min\": 0,\n        \"max\": 4,\n        \"num_unique_values\": 5,\n        \"samples\": [\n          2,\n          4\n        ],\n        \"semantic_type\": \"\",\n        \"description\": \"\"\n      }\n    },\n    {\n      \"column\": \"thal\",\n      \"properties\": {\n        \"dtype\": \"number\",\n        \"std\": 0,\n        \"min\": 0,\n        \"max\": 3,\n        \"num_unique_values\": 4,\n        \"samples\": [\n          2,\n          0\n        ],\n        \"semantic_type\": \"\",\n        \"description\": \"\"\n      }\n    },\n    {\n      \"column\": \"target\",\n      \"properties\": {\n        \"dtype\": \"number\",\n        \"std\": 0,\n        \"min\": 0,\n        \"max\": 1,\n        \"num_unique_values\": 2,\n        \"samples\": [\n          0,\n          1\n        ],\n        \"semantic_type\": \"\",\n        \"description\": \"\"\n      }\n    }\n  ]\n}"
            }
          },
          "metadata": {},
          "execution_count": 2
        }
      ]
    },
    {
      "cell_type": "code",
      "source": [
        "data.shape\n",
        "print(f\"Data has {data.shape[0]} rows and {data.shape[1]} columns.\")"
      ],
      "metadata": {
        "colab": {
          "base_uri": "https://localhost:8080/"
        },
        "id": "hZ6T-mD1C8iY",
        "outputId": "dd8afae3-bcb4-4d69-f535-927e688f3b19"
      },
      "execution_count": null,
      "outputs": [
        {
          "output_type": "stream",
          "name": "stdout",
          "text": [
            "Data has 303 rows and 14 columns.\n"
          ]
        }
      ]
    },
    {
      "cell_type": "code",
      "source": [
        "# check for missing values\n",
        "missing_values = data.isna().values.any()\n",
        "print(f\"Missing values in the data frame? : {missing_values}\")"
      ],
      "metadata": {
        "colab": {
          "base_uri": "https://localhost:8080/"
        },
        "id": "sxOzz46JC_NK",
        "outputId": "5d975b67-9d9f-4f63-d4fd-c584016eedae"
      },
      "execution_count": null,
      "outputs": [
        {
          "output_type": "stream",
          "name": "stdout",
          "text": [
            "Missing values in the data frame? : False\n"
          ]
        }
      ]
    },
    {
      "cell_type": "code",
      "source": [
        "data.isna().sum()"
      ],
      "metadata": {
        "colab": {
          "base_uri": "https://localhost:8080/"
        },
        "id": "djWtbM5RDDIr",
        "outputId": "3834dd80-afa5-484d-a326-102866dae9a2"
      },
      "execution_count": null,
      "outputs": [
        {
          "output_type": "execute_result",
          "data": {
            "text/plain": [
              "age         0\n",
              "sex         0\n",
              "cp          0\n",
              "trestbps    0\n",
              "chol        0\n",
              "fbs         0\n",
              "restecg     0\n",
              "thalach     0\n",
              "exang       0\n",
              "oldpeak     0\n",
              "slope       0\n",
              "ca          0\n",
              "thal        0\n",
              "target      0\n",
              "dtype: int64"
            ]
          },
          "metadata": {},
          "execution_count": 5
        }
      ]
    },
    {
      "cell_type": "markdown",
      "source": [
        "There are no any missing values in the dataset"
      ],
      "metadata": {
        "id": "B7aASP3NDHTo"
      }
    },
    {
      "cell_type": "code",
      "source": [
        "data.info()"
      ],
      "metadata": {
        "colab": {
          "base_uri": "https://localhost:8080/"
        },
        "id": "MJ97kh6EDKSG",
        "outputId": "d307c52c-3759-4902-c467-4de4b65c837d"
      },
      "execution_count": null,
      "outputs": [
        {
          "output_type": "stream",
          "name": "stdout",
          "text": [
            "<class 'pandas.core.frame.DataFrame'>\n",
            "RangeIndex: 303 entries, 0 to 302\n",
            "Data columns (total 14 columns):\n",
            " #   Column    Non-Null Count  Dtype  \n",
            "---  ------    --------------  -----  \n",
            " 0   age       303 non-null    int64  \n",
            " 1   sex       303 non-null    int64  \n",
            " 2   cp        303 non-null    int64  \n",
            " 3   trestbps  303 non-null    int64  \n",
            " 4   chol      303 non-null    int64  \n",
            " 5   fbs       303 non-null    int64  \n",
            " 6   restecg   303 non-null    int64  \n",
            " 7   thalach   303 non-null    int64  \n",
            " 8   exang     303 non-null    int64  \n",
            " 9   oldpeak   303 non-null    float64\n",
            " 10  slope     303 non-null    int64  \n",
            " 11  ca        303 non-null    int64  \n",
            " 12  thal      303 non-null    int64  \n",
            " 13  target    303 non-null    int64  \n",
            "dtypes: float64(1), int64(13)\n",
            "memory usage: 33.3 KB\n"
          ]
        }
      ]
    },
    {
      "cell_type": "code",
      "source": [
        "import matplotlib.pyplot as plt\n",
        "\n",
        "data_by_sex = data.groupby('target')['sex'].value_counts()\n"
      ],
      "metadata": {
        "id": "A-JBiyB9Gj8Q"
      },
      "execution_count": null,
      "outputs": []
    },
    {
      "cell_type": "code",
      "source": [
        "data_by_sex"
      ],
      "metadata": {
        "colab": {
          "base_uri": "https://localhost:8080/"
        },
        "id": "4Rl4Xz3BHNRz",
        "outputId": "c1fc367e-50d8-4ebc-d92b-fe1a6d6e7fa9"
      },
      "execution_count": null,
      "outputs": [
        {
          "output_type": "execute_result",
          "data": {
            "text/plain": [
              "target  sex\n",
              "0       1      114\n",
              "        0       24\n",
              "1       1       93\n",
              "        0       72\n",
              "Name: count, dtype: int64"
            ]
          },
          "metadata": {},
          "execution_count": 8
        }
      ]
    },
    {
      "cell_type": "code",
      "source": [
        "# show value of each bar\n",
        "def add_labls_price(x,y):\n",
        "  for k in range(len(x)):\n",
        "    plt.text(k,y[k],'$'+str(round(y[k],2)),ha='center',va='bottom')"
      ],
      "metadata": {
        "id": "KM_FneYuJp4J"
      },
      "execution_count": null,
      "outputs": []
    },
    {
      "cell_type": "code",
      "source": [
        "import numpy as np\n",
        "low_heart_issue_male = data_by_sex[0, 0]\n",
        "low_heart_issue_female = data_by_sex[0, 1]\n",
        "\n",
        "heart_issue_male = data_by_sex[1,   0]\n",
        "heart_issue_female = data_by_sex[1,   1]\n",
        "\n",
        "male_counts = [low_heart_issue_male,heart_issue_male]\n",
        "female_counts = [low_heart_issue_female,heart_issue_female]\n",
        "\n",
        "# show value of each bar\n",
        "def add_labls_multibar(x,y,z):\n",
        "  for k in range(len(x)):\n",
        "    plt.text(x[k]-0.2,y[k],y[k],ha='center',va='bottom')\n",
        "    plt.text(x[k]+0.2,z[k],z[k],ha='center',va='bottom')\n",
        "\n",
        "# plot bar chart\n",
        "x_labels_list = ['No/Low Issue', 'Heart Issue']\n",
        "x = np.arange(len(x_labels_list))\n",
        "width=0.4\n",
        "\n",
        "plt.figure(figsize=(8,6))\n",
        "plt.bar(x-0.2,male_counts,color='blue',label='Male',width=width)\n",
        "plt.bar(x+0.2,female_counts,color='green',label='Female',width=width)\n",
        "plt.xticks(x,x_labels_list)\n",
        "add_labls_multibar(x,male_counts,female_counts)\n",
        "\n",
        "plt.ylabel('Sample Population')\n",
        "plt.title('Distribution of population with low and high heart issue')\n",
        "plt.legend()\n",
        "plt.show()"
      ],
      "metadata": {
        "colab": {
          "base_uri": "https://localhost:8080/",
          "height": 545
        },
        "id": "9YycElQGJzek",
        "outputId": "90645870-8961-4d51-d5b5-f7415ee68b15"
      },
      "execution_count": null,
      "outputs": [
        {
          "output_type": "display_data",
          "data": {
            "text/plain": [
              "<Figure size 800x600 with 1 Axes>"
            ],
            "image/png": "[encoded data removed]"
          },
          "metadata": {}
        }
      ]
    },
    {
      "cell_type": "code",
      "source": [
        "# Calculate the bins\n",
        "min_age = data['age'].min()\n",
        "max_age = data['age'].max()\n",
        "bins = np.linspace(min_age + 5, max_age + 5, 8)\n",
        "labels = [f'{int(bins[i])}-{int(bins[i+1])}' for i in range(len(bins)-1)]\n",
        "\n",
        "# Create a new column 'age_group' for the bins\n",
        "# right = false makes upper bound not inclusive\n",
        "data['age_group'] = pd.cut(data['age'], bins=bins, labels=labels, right=False)\n",
        "\n",
        "# Group by 'age_group' and calculate counts for 'sex' and 'target'\n",
        "age_grouped = data.groupby('age_group').agg(\n",
        "    male_heart_issue=('target', lambda x: ((data['sex'] == 0) & (x == 1)).sum()),\n",
        "    male_no_heart_issue=('target', lambda x: ((data['sex'] == 1) & (x == 0)).sum()),\n",
        "    female_heart_issue=('target', lambda x: ((data['sex'] == 0) & (x == 1)).sum()),\n",
        "    female_no_heart_issue=('target', lambda x: ((data['sex'] == 0) & (x == 0)).sum())\n",
        ").reset_index()\n",
        "\n",
        "# Plot the stacked histogram for males with heart issues and no issues\n",
        "fig, ax = plt.subplots(figsize=(12, 8))\n",
        "\n",
        "# Bar width\n",
        "bar_width = 0.35\n",
        "\n",
        "# Set positions of bars on X axis\n",
        "r1 = range(len(age_grouped))\n",
        "\n",
        "# Make the plot for males\n",
        "plt.bar(r1, age_grouped['male_heart_issue'], color='b', width=bar_width, edgecolor='grey', label='Male Heart Issue')\n",
        "plt.bar(r1, age_grouped['male_no_heart_issue'], color='g', width=bar_width, edgecolor='grey', label='Male No Heart Issue', bottom=age_grouped['male_heart_issue'])\n",
        "\n",
        "# Set positions of bars on X axis for females\n",
        "r2 = [x + bar_width for x in r1]\n",
        "\n",
        "# Make the plot for females\n",
        "plt.bar(r2, age_grouped['female_heart_issue'], color='brown', width=bar_width, edgecolor='grey', label='Female Heart Issue')\n",
        "plt.bar(r2, age_grouped['female_no_heart_issue'], color='skyblue', width=bar_width, edgecolor='grey', label='Female No Heart Issue', bottom=age_grouped['female_heart_issue'])\n",
        "\n",
        "# Add xticks on the middle of the group bars\n",
        "plt.xlabel('Age Group', fontweight='bold')\n",
        "plt.xticks([r + bar_width / 2 for r in range(len(age_grouped))], age_grouped['age_group'])\n",
        "\n",
        "# Add labels and title\n",
        "plt.ylabel('Count', fontweight='bold')\n",
        "plt.title('Stacked Histogram of Age Groups for Heart Issues and No Issues by Gender')\n",
        "\n",
        "# Create legend & Show graphic\n",
        "plt.legend()\n",
        "plt.show()"
      ],
      "metadata": {
        "colab": {
          "base_uri": "https://localhost:8080/",
          "height": 718
        },
        "id": "byCBi5YFAAAA",
        "outputId": "be4fb4ed-dcef-423f-d12a-4292ef684e29"
      },
      "execution_count": null,
      "outputs": [
        {
          "output_type": "display_data",
          "data": {
            "text/plain": [
              "<Figure size 1200x800 with 1 Axes>"
            ],
            "image/png": "[encoded data removed]"
          },
          "metadata": {}
        }
      ]
    },
    {
      "cell_type": "code",
      "source": [
        "# Seperate the labels and Features from the dataset\n",
        "Y = data['target']\n",
        "\n",
        "X = data.drop(['age_group','target'],axis=1)"
      ],
      "metadata": {
        "id": "mpdebbwWDmEA"
      },
      "execution_count": null,
      "outputs": []
    },
    {
      "cell_type": "code",
      "source": [
        "from sklearn.preprocessing import StandardScaler, MinMaxScaler\n",
        "\n",
        "# bringing the numerical datas to normal range\n",
        "scaler = StandardScaler()\n",
        "scaler.fit(X)\n",
        "print(scaler.mean_)"
      ],
      "metadata": {
        "colab": {
          "base_uri": "https://localhost:8080/"
        },
        "id": "O58IELoxD-vS",
        "outputId": "bf15c78a-f471-4c2b-ea8b-13d7dacf993c"
      },
      "execution_count": null,
      "outputs": [
        {
          "output_type": "stream",
          "name": "stdout",
          "text": [
            "[5.43663366e+01 6.83168317e-01 9.66996700e-01 1.31623762e+02\n",
            " 2.46264026e+02 1.48514851e-01 5.28052805e-01 1.49646865e+02\n",
            " 3.26732673e-01 1.03960396e+00 1.39933993e+00 7.29372937e-01\n",
            " 2.31353135e+00]\n"
          ]
        }
      ]
    },
    {
      "cell_type": "code",
      "source": [
        "X_features = scaler.transform(X)"
      ],
      "metadata": {
        "id": "qC5LALL9F-3G"
      },
      "execution_count": null,
      "outputs": []
    },
    {
      "cell_type": "code",
      "source": [
        "from sklearn.model_selection import train_test_split\n",
        "\n",
        "# Split the data into training and testing\n",
        "X_train, X_test, y_train, y_test = train_test_split(X_features,Y,test_size=.2)\n"
      ],
      "metadata": {
        "id": "IG2NnUllGNrd"
      },
      "execution_count": null,
      "outputs": []
    },
    {
      "cell_type": "code",
      "source": [
        "# KNN\n",
        "from sklearn.neighbors import KNeighborsClassifier\n",
        "from sklearn.metrics import accuracy_score, confusion_matrix, precision_score\n",
        "from sklearn.metrics import recall_score, f1_score\n",
        "\n",
        "knn = KNeighborsClassifier()\n",
        "\n",
        "# Model TRAINING\n",
        "knn.fit(X_train,y_train)\n",
        "\n",
        "# Model PREDICTION\n",
        "pred_labels_knn = knn.predict(X_test)\n",
        "\n",
        "print(pred_labels_knn[1])\n",
        "print(y_test[1])\n",
        "\n",
        "# Accuracy of the model\n",
        "accuracy_knn = accuracy_score(y_test,pred_labels_knn)\n",
        "accuracy_knn = round(accuracy_knn * 100,2)\n",
        "print(f\"The accuracy of the KNN Model is {accuracy_knn}%\")\n",
        "\n",
        "# confusion matrix\n",
        "knn_cm = confusion_matrix(y_test,pred_labels_knn)\n",
        "print(\"confusion matrix:\")\n",
        "print(knn_cm,'\\n')\n",
        "\n",
        "# precision_score\n",
        "knn_ps = precision_score(y_test,pred_labels_knn,average='micro')\n",
        "print(f\"The precision_score of the KNN Model is {round(knn_ps,4)}\")\n",
        "\n",
        "\n",
        "# recall score\n",
        "knn_rs = recall_score(y_test,pred_labels_knn,average='micro')\n",
        "print(f\"The recall score of the KNN Model is {round(knn_rs,4)}\")\n",
        "\n",
        "\n",
        "# f1 score\n",
        "knn_fs = f1_score(y_test,pred_labels_knn,average='micro')\n",
        "print(f\"The f1 score of the KNN Model is {round(knn_fs,4)}\")\n"
      ],
      "metadata": {
        "colab": {
          "base_uri": "https://localhost:8080/"
        },
        "id": "vdib8GbCEkCf",
        "outputId": "f30c2914-551f-4025-ed52-bc8996d6e74d"
      },
      "execution_count": null,
      "outputs": [
        {
          "output_type": "stream",
          "name": "stdout",
          "text": [
            "0\n",
            "1\n",
            "The accuracy of the KNN Model is 78.69%\n",
            "confusion matrix:\n",
            "[[20  8]\n",
            " [ 5 28]] \n",
            "\n",
            "The precision_score of the KNN Model is 0.7869\n",
            "The recall score of the KNN Model is 0.7869\n",
            "The f1 score of the KNN Model is 0.7869\n"
          ]
        }
      ]
    },
    {
      "cell_type": "code",
      "source": [
        "# Decision Tree\n",
        "from sklearn.tree import DecisionTreeClassifier\n",
        "\n",
        "dec_tree = DecisionTreeClassifier()\n",
        "dec_tree.fit(X_train,y_train)\n",
        "\n",
        "pred_labels_dec_tree = dec_tree.predict(X_test)\n",
        "\n",
        "# Accuracy of the model\n",
        "accuracy_tree = accuracy_score(y_test,pred_labels_dec_tree)\n",
        "accuracy_tree = round(accuracy_tree * 100,2)\n",
        "print(f\"The accuracy of the Decision Tree is {accuracy_tree}%\")\n"
      ],
      "metadata": {
        "colab": {
          "base_uri": "https://localhost:8080/"
        },
        "id": "YfOREjOgFPbW",
        "outputId": "ddd467cd-5d12-4c26-9b2f-0f271f27b31b"
      },
      "execution_count": null,
      "outputs": [
        {
          "output_type": "stream",
          "name": "stdout",
          "text": [
            "The accuracy of the Decision Tree is 77.05%\n"
          ]
        }
      ]
    },
    {
      "cell_type": "code",
      "source": [
        "# confusion matrix\n",
        "dt_cm = confusion_matrix(y_test,pred_labels_dec_tree)\n",
        "print(\"confusion matrix:\")\n",
        "print(dt_cm,'\\n')\n",
        "\n",
        "# precision_score\n",
        "dt_ps = precision_score(y_test,pred_labels_dec_tree,average='weighted')\n",
        "print(f\"The precision_score of the decision tree is {round(dt_ps,4)}\")\n",
        "\n",
        "# recall score\n",
        "dt_rs = recall_score(y_test,pred_labels_dec_tree,average='weighted')\n",
        "print(f\"The precision_score of the decision tree is {round(dt_rs,4)}\")\n",
        "\n",
        "# f1 score\n",
        "dt_fs = f1_score(y_test,pred_labels_dec_tree,average='weighted')\n",
        "print(f\"The precision_score of the decision tree is {round(dt_fs,4)}\")"
      ],
      "metadata": {
        "colab": {
          "base_uri": "https://localhost:8080/"
        },
        "id": "r6RdGTDSFmPF",
        "outputId": "78a3217f-668c-41c5-b4d4-6894e0145fbf"
      },
      "execution_count": null,
      "outputs": [
        {
          "output_type": "stream",
          "name": "stdout",
          "text": [
            "confusion matrix:\n",
            "[[21  7]\n",
            " [ 7 26]] \n",
            "\n",
            "The precision_score of the decision tree is 0.7705\n",
            "The precision_score of the decision tree is 0.7705\n",
            "The precision_score of the decision tree is 0.7705\n"
          ]
        }
      ]
    },
    {
      "cell_type": "code",
      "source": [
        "# Random Forest\n",
        "from sklearn.ensemble import RandomForestClassifier\n",
        "\n",
        "random = RandomForestClassifier()\n",
        "random.fit(X_train,y_train)\n",
        "\n",
        "pred_lbls_rf = random.predict(X_test)\n",
        "pred_lbls_rf.shape\n",
        "\n",
        "# Accuracy of the model\n",
        "accuracy_ran_forest= accuracy_score(y_test,pred_lbls_rf)\n",
        "accuracy_ran_forest = round(accuracy_ran_forest * 100,2)\n",
        "print(f\"The accuracy of the Random Forest Model is {accuracy_ran_forest}%\")\n"
      ],
      "metadata": {
        "colab": {
          "base_uri": "https://localhost:8080/"
        },
        "id": "0Sf_c1KBGyYY",
        "outputId": "753942f1-8f1d-40e2-d877-53ec33bfbe78"
      },
      "execution_count": null,
      "outputs": [
        {
          "output_type": "stream",
          "name": "stdout",
          "text": [
            "The accuracy of the Random Forest Model is 80.33%\n"
          ]
        }
      ]
    },
    {
      "cell_type": "code",
      "source": [
        "# confusion matrix\n",
        "rf_cm = confusion_matrix(y_test,pred_lbls_rf)\n",
        "print(\"confusion matrix:\")\n",
        "print(rf_cm,'\\n')\n",
        "\n",
        "# precision_score\n",
        "rf_ps = precision_score(y_test,pred_lbls_rf,average='weighted')\n",
        "print(f\"The precision_score of the random forest is {round(rf_ps,4)}\")\n",
        "\n",
        "# recall score\n",
        "rf_rs = recall_score(y_test,pred_lbls_rf,average='weighted')\n",
        "print(f\"The precision_score of the random forest is {round(rf_rs,4)}\")\n",
        "\n",
        "# f1 score\n",
        "rf_fs = f1_score(y_test,pred_lbls_rf,average='weighted')\n",
        "print(f\"The precision_score of the random forest is {round(rf_fs,4)}\")"
      ],
      "metadata": {
        "colab": {
          "base_uri": "https://localhost:8080/"
        },
        "id": "0jxiXd_7G25A",
        "outputId": "d108a346-4f57-4b2a-adb7-16220dc472de"
      },
      "execution_count": null,
      "outputs": [
        {
          "output_type": "stream",
          "name": "stdout",
          "text": [
            "confusion matrix:\n",
            "[[21  7]\n",
            " [ 5 28]] \n",
            "\n",
            "The precision_score of the random forest is 0.8035\n",
            "The precision_score of the random forest is 0.8033\n",
            "The precision_score of the random forest is 0.8025\n"
          ]
        }
      ]
    },
    {
      "cell_type": "code",
      "source": [
        "# XGBoost\n",
        "from xgboost import XGBClassifier\n",
        "\n",
        "# Instantiation\n",
        "model = XGBClassifier()\n",
        "\n",
        "# Fitting the model\n",
        "model.fit(X_train, y_train)\n",
        "\n",
        "# Predict the model\n",
        "pred_lbls_xg = model.predict(X_test)\n",
        "\n",
        "\n",
        "# Accuracy of the model\n",
        "accuracy_xg= accuracy_score(y_test,pred_lbls_xg)\n",
        "accuracy_xg = round(accuracy_xg * 100,2)\n",
        "print(f\"The accuracy of the XGBoost Model is {accuracy_xg}%\")\n",
        "\n",
        "# confusion matrix\n",
        "xg_cm = confusion_matrix(y_test,pred_lbls_xg)\n",
        "print(\"confusion matrix:\")\n",
        "print(xg_cm,'\\n')\n",
        "\n",
        "# precision_score\n",
        "xg_ps = precision_score(y_test,pred_lbls_xg,average='weighted')\n",
        "print(f\"The precision_score of the XGBoost Model is {round(xg_ps,4)}\")\n",
        "\n",
        "# recall score\n",
        "xg_rs = recall_score(y_test,pred_lbls_xg,average='weighted')\n",
        "print(f\"The precision_score of the XGBoost Model is {round(xg_rs,4)}\")\n",
        "\n",
        "# f1 score\n",
        "xg_fs = f1_score(y_test,pred_lbls_xg,average='weighted')\n",
        "print(f\"The precision_score of the XGBoost Model is {round(xg_fs,4)}\")"
      ],
      "metadata": {
        "colab": {
          "base_uri": "https://localhost:8080/"
        },
        "id": "nmcnc5TWHd8k",
        "outputId": "e9fc2767-3315-48ff-c52a-50ad42f0f9ed"
      },
      "execution_count": null,
      "outputs": [
        {
          "output_type": "stream",
          "name": "stdout",
          "text": [
            "The accuracy of the XGBoost Model is 80.33%\n",
            "confusion matrix:\n",
            "[[22  6]\n",
            " [ 6 27]] \n",
            "\n",
            "The precision_score of the XGBoost Model is 0.8033\n",
            "The precision_score of the XGBoost Model is 0.8033\n",
            "The precision_score of the XGBoost Model is 0.8033\n"
          ]
        }
      ]
    },
    {
      "cell_type": "code",
      "source": [
        "# SVM\n",
        "from sklearn.svm import SVC\n",
        "\n",
        "# Instantiation\n",
        "svm = SVC()\n",
        "\n",
        "# Model Training\n",
        "svm.fit(X_train, y_train)\n",
        "\n",
        "# Model Prediction\n",
        "pred_labels_svm = svm.predict(X_test)\n",
        "\n",
        "# Accuracy of the model\n",
        "accuracy_svm = accuracy_score(y_test, pred_labels_svm)\n",
        "accuracy_svm = round(accuracy_svm * 100, 2)\n",
        "print(f\"The accuracy of the SVM Model is {accuracy_svm}%\")\n",
        "\n",
        "# confusion matrix\n",
        "svm_cm = confusion_matrix(y_test, pred_labels_svm)\n",
        "print(\"confusion matrix:\")\n",
        "print(svm_cm, '\\n')\n",
        "\n",
        "# precision_score\n",
        "svm_ps = precision_score(y_test, pred_labels_svm, average='weighted')\n",
        "print(f\"The precision_score of the SVM Model is {round(svm_ps, 4)}\")\n",
        "\n",
        "# recall score\n",
        "svm_rs = recall_score(y_test, pred_labels_svm, average='weighted')\n",
        "print(f\"The recall score of the SVM Model is {round(svm_rs, 4)}\")\n",
        "\n",
        "# f1 score\n",
        "svm_fs = f1_score(y_test, pred_labels_svm, average='weighted')\n",
        "print(f\"The f1 score of the SVM Model is {round(svm_fs, 4)}\")"
      ],
      "metadata": {
        "colab": {
          "base_uri": "https://localhost:8080/"
        },
        "id": "Q97cx8AV6O31",
        "outputId": "4bab33ae-98e3-4db5-d283-e9672b5e6eac"
      },
      "execution_count": null,
      "outputs": [
        {
          "output_type": "stream",
          "name": "stdout",
          "text": [
            "The accuracy of the SVM Model is 78.69%\n",
            "confusion matrix:\n",
            "[[20  8]\n",
            " [ 5 28]] \n",
            "\n",
            "The precision_score of the SVM Model is 0.788\n",
            "The recall score of the SVM Model is 0.7869\n",
            "The f1 score of the SVM Model is 0.7855\n"
          ]
        }
      ]
    },
    {
      "cell_type": "code",
      "source": [
        "from tensorflow.keras.models import Sequential\n",
        "from tensorflow.keras.layers import Dense\n",
        "# Implementing Neural Network\n",
        "model = Sequential()\n",
        "\n",
        "# Input Layer with input size 13\n",
        "model.add(Dense(64,input_shape=(13,),activation='relu'))\n",
        "\n",
        "# Hidden Layer\n",
        "model.add(Dense(32,activation='relu'))\n",
        "model.add(Dense(16,activation='relu'))\n",
        "model.add(Dense(8,activation='relu'))\n",
        "\n",
        "# Output Layer\n",
        "model.add(Dense(1,activation='sigmoid'))"
      ],
      "metadata": {
        "id": "N-8eb4k1ISxw"
      },
      "execution_count": null,
      "outputs": []
    },
    {
      "cell_type": "code",
      "source": [
        "# compile the model\n",
        "model.compile(loss='binary_crossentropy',optimizer='adam',metrics=['accuracy'])\n",
        "\n",
        "# training the model\n",
        "model.fit(X_train,y_train,epochs=150,batch_size=10)"
      ],
      "metadata": {
        "colab": {
          "base_uri": "https://localhost:8080/"
        },
        "id": "lJgizZ9oJh6_",
        "outputId": "e6073bb0-779a-4ef8-a0ce-ee997d1be75c"
      },
      "execution_count": null,
      "outputs": [
        {
          "output_type": "stream",
          "name": "stdout",
          "text": [
            "Epoch 1/150\n",
            "25/25 [==============================] - 2s 4ms/step - loss: 0.6789 - accuracy: 0.5992\n",
            "Epoch 2/150\n",
            "25/25 [==============================] - 0s 5ms/step - loss: 0.5877 - accuracy: 0.6777\n",
            "Epoch 3/150\n",
            "25/25 [==============================] - 0s 3ms/step - loss: 0.4747 - accuracy: 0.8140\n",
            "Epoch 4/150\n",
            "25/25 [==============================] - 0s 3ms/step - loss: 0.3687 - accuracy: 0.8802\n",
            "Epoch 5/150\n",
            "25/25 [==============================] - 0s 4ms/step - loss: 0.3093 - accuracy: 0.9050\n",
            "Epoch 6/150\n",
            "25/25 [==============================] - 0s 4ms/step - loss: 0.2803 - accuracy: 0.9050\n",
            "Epoch 7/150\n",
            "25/25 [==============================] - 0s 4ms/step - loss: 0.2599 - accuracy: 0.9132\n",
            "Epoch 8/150\n",
            "25/25 [==============================] - 0s 3ms/step - loss: 0.2432 - accuracy: 0.9215\n",
            "Epoch 9/150\n",
            "25/25 [==============================] - 0s 3ms/step - loss: 0.2308 - accuracy: 0.9174\n",
            "Epoch 10/150\n",
            "25/25 [==============================] - 0s 4ms/step - loss: 0.2197 - accuracy: 0.9298\n",
            "Epoch 11/150\n",
            "25/25 [==============================] - 0s 4ms/step - loss: 0.2073 - accuracy: 0.9298\n",
            "Epoch 12/150\n",
            "25/25 [==============================] - 0s 4ms/step - loss: 0.1946 - accuracy: 0.9380\n",
            "Epoch 13/150\n",
            "25/25 [==============================] - 0s 3ms/step - loss: 0.1822 - accuracy: 0.9421\n",
            "Epoch 14/150\n",
            "25/25 [==============================] - 0s 2ms/step - loss: 0.1718 - accuracy: 0.9504\n",
            "Epoch 15/150\n",
            "25/25 [==============================] - 0s 2ms/step - loss: 0.1583 - accuracy: 0.9504\n",
            "Epoch 16/150\n",
            "25/25 [==============================] - 0s 2ms/step - loss: 0.1466 - accuracy: 0.9545\n",
            "Epoch 17/150\n",
            "25/25 [==============================] - 0s 2ms/step - loss: 0.1375 - accuracy: 0.9545\n",
            "Epoch 18/150\n",
            "25/25 [==============================] - 0s 2ms/step - loss: 0.1218 - accuracy: 0.9669\n",
            "Epoch 19/150\n",
            "25/25 [==============================] - 0s 2ms/step - loss: 0.1114 - accuracy: 0.9711\n",
            "Epoch 20/150\n",
            "25/25 [==============================] - 0s 2ms/step - loss: 0.0999 - accuracy: 0.9793\n",
            "Epoch 21/150\n",
            "25/25 [==============================] - 0s 2ms/step - loss: 0.0821 - accuracy: 0.9835\n",
            "Epoch 22/150\n",
            "25/25 [==============================] - 0s 2ms/step - loss: 0.0689 - accuracy: 0.9876\n",
            "Epoch 23/150\n",
            "25/25 [==============================] - 0s 2ms/step - loss: 0.0589 - accuracy: 0.9876\n",
            "Epoch 24/150\n",
            "25/25 [==============================] - 0s 2ms/step - loss: 0.0538 - accuracy: 0.9835\n",
            "Epoch 25/150\n",
            "25/25 [==============================] - 0s 2ms/step - loss: 0.0453 - accuracy: 0.9876\n",
            "Epoch 26/150\n",
            "25/25 [==============================] - 0s 2ms/step - loss: 0.0396 - accuracy: 0.9917\n",
            "Epoch 27/150\n",
            "25/25 [==============================] - 0s 2ms/step - loss: 0.0337 - accuracy: 0.9917\n",
            "Epoch 28/150\n",
            "25/25 [==============================] - 0s 2ms/step - loss: 0.0304 - accuracy: 0.9917\n",
            "Epoch 29/150\n",
            "25/25 [==============================] - 0s 2ms/step - loss: 0.0268 - accuracy: 0.9917\n",
            "Epoch 30/150\n",
            "25/25 [==============================] - 0s 3ms/step - loss: 0.0235 - accuracy: 0.9917\n",
            "Epoch 31/150\n",
            "25/25 [==============================] - 0s 2ms/step - loss: 0.0215 - accuracy: 0.9917\n",
            "Epoch 32/150\n",
            "25/25 [==============================] - 0s 2ms/step - loss: 0.0181 - accuracy: 0.9959\n",
            "Epoch 33/150\n",
            "25/25 [==============================] - 0s 2ms/step - loss: 0.0154 - accuracy: 0.9917\n",
            "Epoch 34/150\n",
            "25/25 [==============================] - 0s 2ms/step - loss: 0.0159 - accuracy: 0.9959\n",
            "Epoch 35/150\n",
            "25/25 [==============================] - 0s 2ms/step - loss: 0.0126 - accuracy: 1.0000\n",
            "Epoch 36/150\n",
            "25/25 [==============================] - 0s 2ms/step - loss: 0.0107 - accuracy: 1.0000\n",
            "Epoch 37/150\n",
            "25/25 [==============================] - 0s 2ms/step - loss: 0.0095 - accuracy: 1.0000\n",
            "Epoch 38/150\n",
            "25/25 [==============================] - 0s 2ms/step - loss: 0.0092 - accuracy: 1.0000\n",
            "Epoch 39/150\n",
            "25/25 [==============================] - 0s 2ms/step - loss: 0.0074 - accuracy: 1.0000\n",
            "Epoch 40/150\n",
            "25/25 [==============================] - 0s 2ms/step - loss: 0.0067 - accuracy: 1.0000\n",
            "Epoch 41/150\n",
            "25/25 [==============================] - 0s 2ms/step - loss: 0.0074 - accuracy: 1.0000\n",
            "Epoch 42/150\n",
            "25/25 [==============================] - 0s 2ms/step - loss: 0.0058 - accuracy: 1.0000\n",
            "Epoch 43/150\n",
            "25/25 [==============================] - 0s 2ms/step - loss: 0.0049 - accuracy: 1.0000\n",
            "Epoch 44/150\n",
            "25/25 [==============================] - 0s 2ms/step - loss: 0.0042 - accuracy: 1.0000\n",
            "Epoch 45/150\n",
            "25/25 [==============================] - 0s 2ms/step - loss: 0.0044 - accuracy: 1.0000\n",
            "Epoch 46/150\n",
            "25/25 [==============================] - 0s 2ms/step - loss: 0.0039 - accuracy: 1.0000\n",
            "Epoch 47/150\n",
            "25/25 [==============================] - 0s 3ms/step - loss: 0.0036 - accuracy: 1.0000\n",
            "Epoch 48/150\n",
            "25/25 [==============================] - 0s 2ms/step - loss: 0.0030 - accuracy: 1.0000\n",
            "Epoch 49/150\n",
            "25/25 [==============================] - 0s 2ms/step - loss: 0.0026 - accuracy: 1.0000\n",
            "Epoch 50/150\n",
            "25/25 [==============================] - 0s 2ms/step - loss: 0.0025 - accuracy: 1.0000\n",
            "Epoch 51/150\n",
            "25/25 [==============================] - 0s 2ms/step - loss: 0.0023 - accuracy: 1.0000\n",
            "Epoch 52/150\n",
            "25/25 [==============================] - 0s 2ms/step - loss: 0.0022 - accuracy: 1.0000\n",
            "Epoch 53/150\n",
            "25/25 [==============================] - 0s 2ms/step - loss: 0.0019 - accuracy: 1.0000\n",
            "Epoch 54/150\n",
            "25/25 [==============================] - 0s 2ms/step - loss: 0.0018 - accuracy: 1.0000\n",
            "Epoch 55/150\n",
            "25/25 [==============================] - 0s 2ms/step - loss: 0.0017 - accuracy: 1.0000\n",
            "Epoch 56/150\n",
            "25/25 [==============================] - 0s 2ms/step - loss: 0.0016 - accuracy: 1.0000\n",
            "Epoch 57/150\n",
            "25/25 [==============================] - 0s 3ms/step - loss: 0.0015 - accuracy: 1.0000\n",
            "Epoch 58/150\n",
            "25/25 [==============================] - 0s 3ms/step - loss: 0.0014 - accuracy: 1.0000\n",
            "Epoch 59/150\n",
            "25/25 [==============================] - 0s 3ms/step - loss: 0.0012 - accuracy: 1.0000\n",
            "Epoch 60/150\n",
            "25/25 [==============================] - 0s 3ms/step - loss: 0.0012 - accuracy: 1.0000\n",
            "Epoch 61/150\n",
            "25/25 [==============================] - 0s 3ms/step - loss: 0.0011 - accuracy: 1.0000\n",
            "Epoch 62/150\n",
            "25/25 [==============================] - 0s 3ms/step - loss: 0.0011 - accuracy: 1.0000\n",
            "Epoch 63/150\n",
            "25/25 [==============================] - 0s 2ms/step - loss: 9.8073e-04 - accuracy: 1.0000\n",
            "Epoch 64/150\n",
            "25/25 [==============================] - 0s 2ms/step - loss: 0.0010 - accuracy: 1.0000\n",
            "Epoch 65/150\n",
            "25/25 [==============================] - 0s 2ms/step - loss: 8.6764e-04 - accuracy: 1.0000\n",
            "Epoch 66/150\n",
            "25/25 [==============================] - 0s 2ms/step - loss: 8.5935e-04 - accuracy: 1.0000\n",
            "Epoch 67/150\n",
            "25/25 [==============================] - 0s 2ms/step - loss: 8.9255e-04 - accuracy: 1.0000\n",
            "Epoch 68/150\n",
            "25/25 [==============================] - 0s 2ms/step - loss: 7.5275e-04 - accuracy: 1.0000\n",
            "Epoch 69/150\n",
            "25/25 [==============================] - 0s 2ms/step - loss: 7.0885e-04 - accuracy: 1.0000\n",
            "Epoch 70/150\n",
            "25/25 [==============================] - 0s 2ms/step - loss: 6.8474e-04 - accuracy: 1.0000\n",
            "Epoch 71/150\n",
            "25/25 [==============================] - 0s 2ms/step - loss: 6.3157e-04 - accuracy: 1.0000\n",
            "Epoch 72/150\n",
            "25/25 [==============================] - 0s 3ms/step - loss: 5.8652e-04 - accuracy: 1.0000\n",
            "Epoch 73/150\n",
            "25/25 [==============================] - 0s 2ms/step - loss: 5.5409e-04 - accuracy: 1.0000\n",
            "Epoch 74/150\n",
            "25/25 [==============================] - 0s 2ms/step - loss: 5.3498e-04 - accuracy: 1.0000\n",
            "Epoch 75/150\n",
            "25/25 [==============================] - 0s 3ms/step - loss: 5.0540e-04 - accuracy: 1.0000\n",
            "Epoch 76/150\n",
            "25/25 [==============================] - 0s 2ms/step - loss: 4.8548e-04 - accuracy: 1.0000\n",
            "Epoch 77/150\n",
            "25/25 [==============================] - 0s 3ms/step - loss: 4.5855e-04 - accuracy: 1.0000\n",
            "Epoch 78/150\n",
            "25/25 [==============================] - 0s 3ms/step - loss: 4.4452e-04 - accuracy: 1.0000\n",
            "Epoch 79/150\n",
            "25/25 [==============================] - 0s 2ms/step - loss: 4.3824e-04 - accuracy: 1.0000\n",
            "Epoch 80/150\n",
            "25/25 [==============================] - 0s 3ms/step - loss: 4.1623e-04 - accuracy: 1.0000\n",
            "Epoch 81/150\n",
            "25/25 [==============================] - 0s 2ms/step - loss: 4.3357e-04 - accuracy: 1.0000\n",
            "Epoch 82/150\n",
            "25/25 [==============================] - 0s 2ms/step - loss: 3.7088e-04 - accuracy: 1.0000\n",
            "Epoch 83/150\n",
            "25/25 [==============================] - 0s 2ms/step - loss: 3.5390e-04 - accuracy: 1.0000\n",
            "Epoch 84/150\n",
            "25/25 [==============================] - 0s 2ms/step - loss: 3.4421e-04 - accuracy: 1.0000\n",
            "Epoch 85/150\n",
            "25/25 [==============================] - 0s 2ms/step - loss: 3.2941e-04 - accuracy: 1.0000\n",
            "Epoch 86/150\n",
            "25/25 [==============================] - 0s 2ms/step - loss: 3.1151e-04 - accuracy: 1.0000\n",
            "Epoch 87/150\n",
            "25/25 [==============================] - 0s 2ms/step - loss: 2.9907e-04 - accuracy: 1.0000\n",
            "Epoch 88/150\n",
            "25/25 [==============================] - 0s 2ms/step - loss: 2.8924e-04 - accuracy: 1.0000\n",
            "Epoch 89/150\n",
            "25/25 [==============================] - 0s 2ms/step - loss: 2.8275e-04 - accuracy: 1.0000\n",
            "Epoch 90/150\n",
            "25/25 [==============================] - 0s 2ms/step - loss: 2.7090e-04 - accuracy: 1.0000\n",
            "Epoch 91/150\n",
            "25/25 [==============================] - 0s 2ms/step - loss: 2.6161e-04 - accuracy: 1.0000\n",
            "Epoch 92/150\n",
            "25/25 [==============================] - 0s 2ms/step - loss: 2.6037e-04 - accuracy: 1.0000\n",
            "Epoch 93/150\n",
            "25/25 [==============================] - 0s 2ms/step - loss: 2.4773e-04 - accuracy: 1.0000\n",
            "Epoch 94/150\n",
            "25/25 [==============================] - 0s 2ms/step - loss: 2.3605e-04 - accuracy: 1.0000\n",
            "Epoch 95/150\n",
            "25/25 [==============================] - 0s 2ms/step - loss: 2.3136e-04 - accuracy: 1.0000\n",
            "Epoch 96/150\n",
            "25/25 [==============================] - 0s 2ms/step - loss: 2.2142e-04 - accuracy: 1.0000\n",
            "Epoch 97/150\n",
            "25/25 [==============================] - 0s 2ms/step - loss: 2.1766e-04 - accuracy: 1.0000\n",
            "Epoch 98/150\n",
            "25/25 [==============================] - 0s 2ms/step - loss: 2.0806e-04 - accuracy: 1.0000\n",
            "Epoch 99/150\n",
            "25/25 [==============================] - 0s 2ms/step - loss: 2.0340e-04 - accuracy: 1.0000\n",
            "Epoch 100/150\n",
            "25/25 [==============================] - 0s 2ms/step - loss: 1.9449e-04 - accuracy: 1.0000\n",
            "Epoch 101/150\n",
            "25/25 [==============================] - 0s 2ms/step - loss: 1.9319e-04 - accuracy: 1.0000\n",
            "Epoch 102/150\n",
            "25/25 [==============================] - 0s 2ms/step - loss: 1.8372e-04 - accuracy: 1.0000\n",
            "Epoch 103/150\n",
            "25/25 [==============================] - 0s 2ms/step - loss: 1.8138e-04 - accuracy: 1.0000\n",
            "Epoch 104/150\n",
            "25/25 [==============================] - 0s 2ms/step - loss: 1.7570e-04 - accuracy: 1.0000\n",
            "Epoch 105/150\n",
            "25/25 [==============================] - 0s 2ms/step - loss: 1.7065e-04 - accuracy: 1.0000\n",
            "Epoch 106/150\n",
            "25/25 [==============================] - 0s 2ms/step - loss: 1.6537e-04 - accuracy: 1.0000\n",
            "Epoch 107/150\n",
            "25/25 [==============================] - 0s 2ms/step - loss: 1.6001e-04 - accuracy: 1.0000\n",
            "Epoch 108/150\n",
            "25/25 [==============================] - 0s 2ms/step - loss: 1.5452e-04 - accuracy: 1.0000\n",
            "Epoch 109/150\n",
            "25/25 [==============================] - 0s 2ms/step - loss: 1.5192e-04 - accuracy: 1.0000\n",
            "Epoch 110/150\n",
            "25/25 [==============================] - 0s 2ms/step - loss: 1.4754e-04 - accuracy: 1.0000\n",
            "Epoch 111/150\n",
            "25/25 [==============================] - 0s 2ms/step - loss: 1.4368e-04 - accuracy: 1.0000\n",
            "Epoch 112/150\n",
            "25/25 [==============================] - 0s 3ms/step - loss: 1.4005e-04 - accuracy: 1.0000\n",
            "Epoch 113/150\n",
            "25/25 [==============================] - 0s 2ms/step - loss: 1.3415e-04 - accuracy: 1.0000\n",
            "Epoch 114/150\n",
            "25/25 [==============================] - 0s 2ms/step - loss: 1.3126e-04 - accuracy: 1.0000\n",
            "Epoch 115/150\n",
            "25/25 [==============================] - 0s 2ms/step - loss: 1.2920e-04 - accuracy: 1.0000\n",
            "Epoch 116/150\n",
            "25/25 [==============================] - 0s 2ms/step - loss: 1.2443e-04 - accuracy: 1.0000\n",
            "Epoch 117/150\n",
            "25/25 [==============================] - 0s 2ms/step - loss: 1.2285e-04 - accuracy: 1.0000\n",
            "Epoch 118/150\n",
            "25/25 [==============================] - 0s 2ms/step - loss: 1.1831e-04 - accuracy: 1.0000\n",
            "Epoch 119/150\n",
            "25/25 [==============================] - 0s 2ms/step - loss: 1.1744e-04 - accuracy: 1.0000\n",
            "Epoch 120/150\n",
            "25/25 [==============================] - 0s 2ms/step - loss: 1.1344e-04 - accuracy: 1.0000\n",
            "Epoch 121/150\n",
            "25/25 [==============================] - 0s 2ms/step - loss: 1.0938e-04 - accuracy: 1.0000\n",
            "Epoch 122/150\n",
            "25/25 [==============================] - 0s 2ms/step - loss: 1.0693e-04 - accuracy: 1.0000\n",
            "Epoch 123/150\n",
            "25/25 [==============================] - 0s 2ms/step - loss: 1.0283e-04 - accuracy: 1.0000\n",
            "Epoch 124/150\n",
            "25/25 [==============================] - 0s 2ms/step - loss: 1.0192e-04 - accuracy: 1.0000\n",
            "Epoch 125/150\n",
            "25/25 [==============================] - 0s 2ms/step - loss: 9.8960e-05 - accuracy: 1.0000\n",
            "Epoch 126/150\n",
            "25/25 [==============================] - 0s 2ms/step - loss: 9.7716e-05 - accuracy: 1.0000\n",
            "Epoch 127/150\n",
            "25/25 [==============================] - 0s 2ms/step - loss: 9.4302e-05 - accuracy: 1.0000\n",
            "Epoch 128/150\n",
            "25/25 [==============================] - 0s 2ms/step - loss: 9.2135e-05 - accuracy: 1.0000\n",
            "Epoch 129/150\n",
            "25/25 [==============================] - 0s 2ms/step - loss: 8.9807e-05 - accuracy: 1.0000\n",
            "Epoch 130/150\n",
            "25/25 [==============================] - 0s 2ms/step - loss: 8.8068e-05 - accuracy: 1.0000\n",
            "Epoch 131/150\n",
            "25/25 [==============================] - 0s 2ms/step - loss: 8.5640e-05 - accuracy: 1.0000\n",
            "Epoch 132/150\n",
            "25/25 [==============================] - 0s 2ms/step - loss: 8.4370e-05 - accuracy: 1.0000\n",
            "Epoch 133/150\n",
            "25/25 [==============================] - 0s 3ms/step - loss: 8.1042e-05 - accuracy: 1.0000\n",
            "Epoch 134/150\n",
            "25/25 [==============================] - 0s 2ms/step - loss: 7.9497e-05 - accuracy: 1.0000\n",
            "Epoch 135/150\n",
            "25/25 [==============================] - 0s 2ms/step - loss: 7.7408e-05 - accuracy: 1.0000\n",
            "Epoch 136/150\n",
            "25/25 [==============================] - 0s 2ms/step - loss: 7.5882e-05 - accuracy: 1.0000\n",
            "Epoch 137/150\n",
            "25/25 [==============================] - 0s 2ms/step - loss: 7.3773e-05 - accuracy: 1.0000\n",
            "Epoch 138/150\n",
            "25/25 [==============================] - 0s 2ms/step - loss: 7.3127e-05 - accuracy: 1.0000\n",
            "Epoch 139/150\n",
            "25/25 [==============================] - 0s 2ms/step - loss: 7.1749e-05 - accuracy: 1.0000\n",
            "Epoch 140/150\n",
            "25/25 [==============================] - 0s 2ms/step - loss: 7.0133e-05 - accuracy: 1.0000\n",
            "Epoch 141/150\n",
            "25/25 [==============================] - 0s 2ms/step - loss: 6.8283e-05 - accuracy: 1.0000\n",
            "Epoch 142/150\n",
            "25/25 [==============================] - 0s 2ms/step - loss: 6.6765e-05 - accuracy: 1.0000\n",
            "Epoch 143/150\n",
            "25/25 [==============================] - 0s 2ms/step - loss: 6.4453e-05 - accuracy: 1.0000\n",
            "Epoch 144/150\n",
            "25/25 [==============================] - 0s 2ms/step - loss: 6.3560e-05 - accuracy: 1.0000\n",
            "Epoch 145/150\n",
            "25/25 [==============================] - 0s 2ms/step - loss: 6.2228e-05 - accuracy: 1.0000\n",
            "Epoch 146/150\n",
            "25/25 [==============================] - 0s 3ms/step - loss: 6.0273e-05 - accuracy: 1.0000\n",
            "Epoch 147/150\n",
            "25/25 [==============================] - 0s 3ms/step - loss: 5.9932e-05 - accuracy: 1.0000\n",
            "Epoch 148/150\n",
            "25/25 [==============================] - 0s 2ms/step - loss: 5.7675e-05 - accuracy: 1.0000\n",
            "Epoch 149/150\n",
            "25/25 [==============================] - 0s 2ms/step - loss: 5.6904e-05 - accuracy: 1.0000\n",
            "Epoch 150/150\n",
            "25/25 [==============================] - 0s 2ms/step - loss: 5.5213e-05 - accuracy: 1.0000\n"
          ]
        },
        {
          "output_type": "execute_result",
          "data": {
            "text/plain": [
              "<keras.src.callbacks.History at 0x7e8d3022a920>"
            ]
          },
          "metadata": {},
          "execution_count": 29
        }
      ]
    },
    {
      "cell_type": "code",
      "source": [
        "import warnings\n",
        "\n",
        "# Suppress all warnings\n",
        "warnings.filterwarnings('ignore')\n",
        "# Evaluate the Model\n",
        "_,accuracy_nn = model.evaluate(X_test,y_test)\n",
        "accuracy_nn = round(accuracy_nn * 100,2)\n",
        "print(f'Accuracy: {accuracy_nn}%')\n",
        "\n",
        "pred_probs_nn = model.predict(X_test)\n",
        "\n",
        "# Threshold probabilities to get class labels\n",
        "pred_labels_nn = (pred_probs_nn > 0.5).astype(int)\n",
        "\n",
        "# # Ensure y_test is a flat array if it is not\n",
        "# if len(y_test.shape) > 1 and y_test.shape[1] == 1:\n",
        "#     y_test = y_test.ravel()\n",
        "\n",
        "# confusion matrix\n",
        "nn_cm = confusion_matrix(y_test, pred_labels_nn)\n",
        "print(\"confusion matrix:\")\n",
        "print(nn_cm,'\\n')\n",
        "\n",
        "# precision_score\n",
        "nn_ps = precision_score(y_test,pred_labels_nn,average='weighted')\n",
        "print(f\"The precision_score of the Neural Network is {round(nn_ps,4)}\")\n",
        "\n",
        "# recall score\n",
        "nn_rs = recall_score(y_test,pred_labels_nn,average='weighted')\n",
        "print(f\"The precision_score of the Neural Network is {round(nn_rs,4)}\")\n",
        "\n",
        "# f1 score\n",
        "nn_fs = f1_score(y_test,pred_labels_nn,average='weighted')\n",
        "print(f\"The precision_score of the Neural Network is {round(nn_fs,4)}\")"
      ],
      "metadata": {
        "colab": {
          "base_uri": "https://localhost:8080/"
        },
        "id": "F_rfI-0GKQcG",
        "outputId": "10a7be03-96f6-4fdf-d688-bf0651c8b476"
      },
      "execution_count": null,
      "outputs": [
        {
          "output_type": "stream",
          "name": "stdout",
          "text": [
            "2/2 [==============================] - 0s 7ms/step - loss: 2.2180 - accuracy: 0.7869\n",
            "Accuracy: 78.69%\n",
            "2/2 [==============================] - 0s 5ms/step\n",
            "confusion matrix:\n",
            "[[23  5]\n",
            " [ 8 25]] \n",
            "\n",
            "The precision_score of the Neural Network is 0.7914\n",
            "The precision_score of the Neural Network is 0.7869\n",
            "The precision_score of the Neural Network is 0.7872\n"
          ]
        }
      ]
    },
    {
      "cell_type": "code",
      "source": [
        "# Comparison of all accuracies with a bar chart\n",
        "x_labels = ['KNN', 'Decision Tree', 'Random Forest', 'XGBoost', 'SVM', 'Neural Network']\n",
        "y_values = [accuracy_knn, accuracy_tree, accuracy_ran_forest, accuracy_xg, accuracy_svm, accuracy_nn]\n",
        "\n",
        "plt.figure(figsize=(10, 6))\n",
        "plt.bar(x_labels, y_values, color=['blue', 'green', 'red', 'purple', 'pink', 'orange'])\n",
        "# show value on top of each bar\n",
        "for index, value in enumerate(y_values):\n",
        "    plt.text(index, value, str(value)+'%', ha='center', va='bottom')\n",
        "\n",
        "plt.ylim(0, 100)\n",
        "plt.xlabel('Supervised ML Models')\n",
        "plt.ylabel('Accuracy')\n",
        "plt.title('Accuracy comparison between\\n KNN, Decision Tree, Random Forest, XGBoost, SVM, and Neural Network')\n",
        "\n",
        "plt.show()"
      ],
      "metadata": {
        "colab": {
          "base_uri": "https://localhost:8080/",
          "height": 585
        },
        "id": "B4IgsXjTKVWc",
        "outputId": "2e80b6d4-3a50-498f-b916-fa99f078e02d"
      },
      "execution_count": null,
      "outputs": [
        {
          "output_type": "display_data",
          "data": {
            "text/plain": [
              "<Figure size 1000x600 with 1 Axes>"
            ],
            "image/png": "[encoded data removed]"
          },
          "metadata": {}
        }
      ]
    }
  ]
}