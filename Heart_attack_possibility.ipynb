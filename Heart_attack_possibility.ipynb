{
  "nbformat": 4,
  "nbformat_minor": 0,
  "metadata": {
    "colab": {
      "provenance": [],
      "authorship_tag": "ABX9TyOOmeCpisEoXeKb75I6UncS",
      "include_colab_link": true
    },
    "kernelspec": {
      "name": "python3",
      "display_name": "Python 3"
    },
    "language_info": {
      "name": "python"
    }
  },
  "cells": [
    {
      "cell_type": "markdown",
      "metadata": {
        "id": "view-in-github",
        "colab_type": "text"
      },
      "source": [
        "<a href=\"https://colab.research.google.com/github/newguy7/DataScienceProjects/blob/main/Heart_attack_possibility.ipynb\" target=\"_parent\"><img src=\"https://colab.research.google.com/assets/colab-badge.svg\" alt=\"Open In Colab\"/></a>"
      ]
    },
    {
      "cell_type": "code",
      "execution_count": 221,
      "metadata": {
        "id": "I62p9K8zCVB5"
      },
      "outputs": [],
      "source": [
        "import pandas as pd"
      ]
    },
    {
      "cell_type": "code",
      "source": [
        "# load the dataset\n",
        "data = pd.read_csv('heart.csv')\n",
        "\n",
        "data.head(n=10)"
      ],
      "metadata": {
        "colab": {
          "base_uri": "https://localhost:8080/",
          "height": 363
        },
        "id": "jrB-8SVBCsXa",
        "outputId": "1f22209e-b152-47f5-bb96-af3957b49905"
      },
      "execution_count": 222,
      "outputs": [
        {
          "output_type": "execute_result",
          "data": {
            "text/plain": [
              "   age  sex  cp  trestbps  chol  fbs  restecg  thalach  exang  oldpeak  slope  \\\n",
              "0   63    1   3       145   233    1        0      150      0      2.3      0   \n",
              "1   37    1   2       130   250    0        1      187      0      3.5      0   \n",
              "2   41    0   1       130   204    0        0      172      0      1.4      2   \n",
              "3   56    1   1       120   236    0        1      178      0      0.8      2   \n",
              "4   57    0   0       120   354    0        1      163      1      0.6      2   \n",
              "5   57    1   0       140   192    0        1      148      0      0.4      1   \n",
              "6   56    0   1       140   294    0        0      153      0      1.3      1   \n",
              "7   44    1   1       120   263    0        1      173      0      0.0      2   \n",
              "8   52    1   2       172   199    1        1      162      0      0.5      2   \n",
              "9   57    1   2       150   168    0        1      174      0      1.6      2   \n",
              "\n",
              "   ca  thal  target  \n",
              "0   0     1       1  \n",
              "1   0     2       1  \n",
              "2   0     2       1  \n",
              "3   0     2       1  \n",
              "4   0     2       1  \n",
              "5   0     1       1  \n",
              "6   0     2       1  \n",
              "7   0     3       1  \n",
              "8   0     3       1  \n",
              "9   0     2       1  "
            ],
            "text/html": [
              "\n",
              "  <div id=\"df-f420200d-f7a2-4dd5-a89e-6f029a3a30cb\" class=\"colab-df-container\">\n",
              "    <div>\n",
              "<style scoped>\n",
              "    .dataframe tbody tr th:only-of-type {\n",
              "        vertical-align: middle;\n",
              "    }\n",
              "\n",
              "    .dataframe tbody tr th {\n",
              "        vertical-align: top;\n",
              "    }\n",
              "\n",
              "    .dataframe thead th {\n",
              "        text-align: right;\n",
              "    }\n",
              "</style>\n",
              "<table border=\"1\" class=\"dataframe\">\n",
              "  <thead>\n",
              "    <tr style=\"text-align: right;\">\n",
              "      <th></th>\n",
              "      <th>age</th>\n",
              "      <th>sex</th>\n",
              "      <th>cp</th>\n",
              "      <th>trestbps</th>\n",
              "      <th>chol</th>\n",
              "      <th>fbs</th>\n",
              "      <th>restecg</th>\n",
              "      <th>thalach</th>\n",
              "      <th>exang</th>\n",
              "      <th>oldpeak</th>\n",
              "      <th>slope</th>\n",
              "      <th>ca</th>\n",
              "      <th>thal</th>\n",
              "      <th>target</th>\n",
              "    </tr>\n",
              "  </thead>\n",
              "  <tbody>\n",
              "    <tr>\n",
              "      <th>0</th>\n",
              "      <td>63</td>\n",
              "      <td>1</td>\n",
              "      <td>3</td>\n",
              "      <td>145</td>\n",
              "      <td>233</td>\n",
              "      <td>1</td>\n",
              "      <td>0</td>\n",
              "      <td>150</td>\n",
              "      <td>0</td>\n",
              "      <td>2.3</td>\n",
              "      <td>0</td>\n",
              "      <td>0</td>\n",
              "      <td>1</td>\n",
              "      <td>1</td>\n",
              "    </tr>\n",
              "    <tr>\n",
              "      <th>1</th>\n",
              "      <td>37</td>\n",
              "      <td>1</td>\n",
              "      <td>2</td>\n",
              "      <td>130</td>\n",
              "      <td>250</td>\n",
              "      <td>0</td>\n",
              "      <td>1</td>\n",
              "      <td>187</td>\n",
              "      <td>0</td>\n",
              "      <td>3.5</td>\n",
              "      <td>0</td>\n",
              "      <td>0</td>\n",
              "      <td>2</td>\n",
              "      <td>1</td>\n",
              "    </tr>\n",
              "    <tr>\n",
              "      <th>2</th>\n",
              "      <td>41</td>\n",
              "      <td>0</td>\n",
              "      <td>1</td>\n",
              "      <td>130</td>\n",
              "      <td>204</td>\n",
              "      <td>0</td>\n",
              "      <td>0</td>\n",
              "      <td>172</td>\n",
              "      <td>0</td>\n",
              "      <td>1.4</td>\n",
              "      <td>2</td>\n",
              "      <td>0</td>\n",
              "      <td>2</td>\n",
              "      <td>1</td>\n",
              "    </tr>\n",
              "    <tr>\n",
              "      <th>3</th>\n",
              "      <td>56</td>\n",
              "      <td>1</td>\n",
              "      <td>1</td>\n",
              "      <td>120</td>\n",
              "      <td>236</td>\n",
              "      <td>0</td>\n",
              "      <td>1</td>\n",
              "      <td>178</td>\n",
              "      <td>0</td>\n",
              "      <td>0.8</td>\n",
              "      <td>2</td>\n",
              "      <td>0</td>\n",
              "      <td>2</td>\n",
              "      <td>1</td>\n",
              "    </tr>\n",
              "    <tr>\n",
              "      <th>4</th>\n",
              "      <td>57</td>\n",
              "      <td>0</td>\n",
              "      <td>0</td>\n",
              "      <td>120</td>\n",
              "      <td>354</td>\n",
              "      <td>0</td>\n",
              "      <td>1</td>\n",
              "      <td>163</td>\n",
              "      <td>1</td>\n",
              "      <td>0.6</td>\n",
              "      <td>2</td>\n",
              "      <td>0</td>\n",
              "      <td>2</td>\n",
              "      <td>1</td>\n",
              "    </tr>\n",
              "    <tr>\n",
              "      <th>5</th>\n",
              "      <td>57</td>\n",
              "      <td>1</td>\n",
              "      <td>0</td>\n",
              "      <td>140</td>\n",
              "      <td>192</td>\n",
              "      <td>0</td>\n",
              "      <td>1</td>\n",
              "      <td>148</td>\n",
              "      <td>0</td>\n",
              "      <td>0.4</td>\n",
              "      <td>1</td>\n",
              "      <td>0</td>\n",
              "      <td>1</td>\n",
              "      <td>1</td>\n",
              "    </tr>\n",
              "    <tr>\n",
              "      <th>6</th>\n",
              "      <td>56</td>\n",
              "      <td>0</td>\n",
              "      <td>1</td>\n",
              "      <td>140</td>\n",
              "      <td>294</td>\n",
              "      <td>0</td>\n",
              "      <td>0</td>\n",
              "      <td>153</td>\n",
              "      <td>0</td>\n",
              "      <td>1.3</td>\n",
              "      <td>1</td>\n",
              "      <td>0</td>\n",
              "      <td>2</td>\n",
              "      <td>1</td>\n",
              "    </tr>\n",
              "    <tr>\n",
              "      <th>7</th>\n",
              "      <td>44</td>\n",
              "      <td>1</td>\n",
              "      <td>1</td>\n",
              "      <td>120</td>\n",
              "      <td>263</td>\n",
              "      <td>0</td>\n",
              "      <td>1</td>\n",
              "      <td>173</td>\n",
              "      <td>0</td>\n",
              "      <td>0.0</td>\n",
              "      <td>2</td>\n",
              "      <td>0</td>\n",
              "      <td>3</td>\n",
              "      <td>1</td>\n",
              "    </tr>\n",
              "    <tr>\n",
              "      <th>8</th>\n",
              "      <td>52</td>\n",
              "      <td>1</td>\n",
              "      <td>2</td>\n",
              "      <td>172</td>\n",
              "      <td>199</td>\n",
              "      <td>1</td>\n",
              "      <td>1</td>\n",
              "      <td>162</td>\n",
              "      <td>0</td>\n",
              "      <td>0.5</td>\n",
              "      <td>2</td>\n",
              "      <td>0</td>\n",
              "      <td>3</td>\n",
              "      <td>1</td>\n",
              "    </tr>\n",
              "    <tr>\n",
              "      <th>9</th>\n",
              "      <td>57</td>\n",
              "      <td>1</td>\n",
              "      <td>2</td>\n",
              "      <td>150</td>\n",
              "      <td>168</td>\n",
              "      <td>0</td>\n",
              "      <td>1</td>\n",
              "      <td>174</td>\n",
              "      <td>0</td>\n",
              "      <td>1.6</td>\n",
              "      <td>2</td>\n",
              "      <td>0</td>\n",
              "      <td>2</td>\n",
              "      <td>1</td>\n",
              "    </tr>\n",
              "  </tbody>\n",
              "</table>\n",
              "</div>\n",
              "    <div class=\"colab-df-buttons\">\n",
              "\n",
              "  <div class=\"colab-df-container\">\n",
              "    <button class=\"colab-df-convert\" onclick=\"convertToInteractive('df-f420200d-f7a2-4dd5-a89e-6f029a3a30cb')\"\n",
              "            title=\"Convert this dataframe to an interactive table.\"\n",
              "            style=\"display:none;\">\n",
              "\n",
              "  <svg xmlns=\"http://www.w3.org/2000/svg\" height=\"24px\" viewBox=\"0 -960 960 960\">\n",
              "    <path d=\"M120-120v-720h720v720H120Zm60-500h600v-160H180v160Zm220 220h160v-160H400v160Zm0 220h160v-160H400v160ZM180-400h160v-160H180v160Zm440 0h160v-160H620v160ZM180-180h160v-160H180v160Zm440 0h160v-160H620v160Z\"/>\n",
              "  </svg>\n",
              "    </button>\n",
              "\n",
              "  <style>\n",
              "    .colab-df-container {\n",
              "      display:flex;\n",
              "      gap: 12px;\n",
              "    }\n",
              "\n",
              "    .colab-df-convert {\n",
              "      background-color: #E8F0FE;\n",
              "      border: none;\n",
              "      border-radius: 50%;\n",
              "      cursor: pointer;\n",
              "      display: none;\n",
              "      fill: #1967D2;\n",
              "      height: 32px;\n",
              "      padding: 0 0 0 0;\n",
              "      width: 32px;\n",
              "    }\n",
              "\n",
              "    .colab-df-convert:hover {\n",
              "      background-color: #E2EBFA;\n",
              "      box-shadow: 0px 1px 2px rgba(60, 64, 67, 0.3), 0px 1px 3px 1px rgba(60, 64, 67, 0.15);\n",
              "      fill: #174EA6;\n",
              "    }\n",
              "\n",
              "    .colab-df-buttons div {\n",
              "      margin-bottom: 4px;\n",
              "    }\n",
              "\n",
              "    [theme=dark] .colab-df-convert {\n",
              "      background-color: #3B4455;\n",
              "      fill: #D2E3FC;\n",
              "    }\n",
              "\n",
              "    [theme=dark] .colab-df-convert:hover {\n",
              "      background-color: #434B5C;\n",
              "      box-shadow: 0px 1px 3px 1px rgba(0, 0, 0, 0.15);\n",
              "      filter: drop-shadow(0px 1px 2px rgba(0, 0, 0, 0.3));\n",
              "      fill: #FFFFFF;\n",
              "    }\n",
              "  </style>\n",
              "\n",
              "    <script>\n",
              "      const buttonEl =\n",
              "        document.querySelector('#df-f420200d-f7a2-4dd5-a89e-6f029a3a30cb button.colab-df-convert');\n",
              "      buttonEl.style.display =\n",
              "        google.colab.kernel.accessAllowed ? 'block' : 'none';\n",
              "\n",
              "      async function convertToInteractive(key) {\n",
              "        const element = document.querySelector('#df-f420200d-f7a2-4dd5-a89e-6f029a3a30cb');\n",
              "        const dataTable =\n",
              "          await google.colab.kernel.invokeFunction('convertToInteractive',\n",
              "                                                    [key], {});\n",
              "        if (!dataTable) return;\n",
              "\n",
              "        const docLinkHtml = 'Like what you see? Visit the ' +\n",
              "          '<a target=\"_blank\" href=https://colab.research.google.com/notebooks/data_table.ipynb>data table notebook</a>'\n",
              "          + ' to learn more about interactive tables.';\n",
              "        element.innerHTML = '';\n",
              "        dataTable['output_type'] = 'display_data';\n",
              "        await google.colab.output.renderOutput(dataTable, element);\n",
              "        const docLink = document.createElement('div');\n",
              "        docLink.innerHTML = docLinkHtml;\n",
              "        element.appendChild(docLink);\n",
              "      }\n",
              "    </script>\n",
              "  </div>\n",
              "\n",
              "\n",
              "<div id=\"df-917c474a-aada-497f-b1dd-9048fe610b83\">\n",
              "  <button class=\"colab-df-quickchart\" onclick=\"quickchart('df-917c474a-aada-497f-b1dd-9048fe610b83')\"\n",
              "            title=\"Suggest charts\"\n",
              "            style=\"display:none;\">\n",
              "\n",
              "<svg xmlns=\"http://www.w3.org/2000/svg\" height=\"24px\"viewBox=\"0 0 24 24\"\n",
              "     width=\"24px\">\n",
              "    <g>\n",
              "        <path d=\"M19 3H5c-1.1 0-2 .9-2 2v14c0 1.1.9 2 2 2h14c1.1 0 2-.9 2-2V5c0-1.1-.9-2-2-2zM9 17H7v-7h2v7zm4 0h-2V7h2v10zm4 0h-2v-4h2v4z\"/>\n",
              "    </g>\n",
              "</svg>\n",
              "  </button>\n",
              "\n",
              "<style>\n",
              "  .colab-df-quickchart {\n",
              "      --bg-color: #E8F0FE;\n",
              "      --fill-color: #1967D2;\n",
              "      --hover-bg-color: #E2EBFA;\n",
              "      --hover-fill-color: #174EA6;\n",
              "      --disabled-fill-color: #AAA;\n",
              "      --disabled-bg-color: #DDD;\n",
              "  }\n",
              "\n",
              "  [theme=dark] .colab-df-quickchart {\n",
              "      --bg-color: #3B4455;\n",
              "      --fill-color: #D2E3FC;\n",
              "      --hover-bg-color: #434B5C;\n",
              "      --hover-fill-color: #FFFFFF;\n",
              "      --disabled-bg-color: #3B4455;\n",
              "      --disabled-fill-color: #666;\n",
              "  }\n",
              "\n",
              "  .colab-df-quickchart {\n",
              "    background-color: var(--bg-color);\n",
              "    border: none;\n",
              "    border-radius: 50%;\n",
              "    cursor: pointer;\n",
              "    display: none;\n",
              "    fill: var(--fill-color);\n",
              "    height: 32px;\n",
              "    padding: 0;\n",
              "    width: 32px;\n",
              "  }\n",
              "\n",
              "  .colab-df-quickchart:hover {\n",
              "    background-color: var(--hover-bg-color);\n",
              "    box-shadow: 0 1px 2px rgba(60, 64, 67, 0.3), 0 1px 3px 1px rgba(60, 64, 67, 0.15);\n",
              "    fill: var(--button-hover-fill-color);\n",
              "  }\n",
              "\n",
              "  .colab-df-quickchart-complete:disabled,\n",
              "  .colab-df-quickchart-complete:disabled:hover {\n",
              "    background-color: var(--disabled-bg-color);\n",
              "    fill: var(--disabled-fill-color);\n",
              "    box-shadow: none;\n",
              "  }\n",
              "\n",
              "  .colab-df-spinner {\n",
              "    border: 2px solid var(--fill-color);\n",
              "    border-color: transparent;\n",
              "    border-bottom-color: var(--fill-color);\n",
              "    animation:\n",
              "      spin 1s steps(1) infinite;\n",
              "  }\n",
              "\n",
              "  @keyframes spin {\n",
              "    0% {\n",
              "      border-color: transparent;\n",
              "      border-bottom-color: var(--fill-color);\n",
              "      border-left-color: var(--fill-color);\n",
              "    }\n",
              "    20% {\n",
              "      border-color: transparent;\n",
              "      border-left-color: var(--fill-color);\n",
              "      border-top-color: var(--fill-color);\n",
              "    }\n",
              "    30% {\n",
              "      border-color: transparent;\n",
              "      border-left-color: var(--fill-color);\n",
              "      border-top-color: var(--fill-color);\n",
              "      border-right-color: var(--fill-color);\n",
              "    }\n",
              "    40% {\n",
              "      border-color: transparent;\n",
              "      border-right-color: var(--fill-color);\n",
              "      border-top-color: var(--fill-color);\n",
              "    }\n",
              "    60% {\n",
              "      border-color: transparent;\n",
              "      border-right-color: var(--fill-color);\n",
              "    }\n",
              "    80% {\n",
              "      border-color: transparent;\n",
              "      border-right-color: var(--fill-color);\n",
              "      border-bottom-color: var(--fill-color);\n",
              "    }\n",
              "    90% {\n",
              "      border-color: transparent;\n",
              "      border-bottom-color: var(--fill-color);\n",
              "    }\n",
              "  }\n",
              "</style>\n",
              "\n",
              "  <script>\n",
              "    async function quickchart(key) {\n",
              "      const quickchartButtonEl =\n",
              "        document.querySelector('#' + key + ' button');\n",
              "      quickchartButtonEl.disabled = true;  // To prevent multiple clicks.\n",
              "      quickchartButtonEl.classList.add('colab-df-spinner');\n",
              "      try {\n",
              "        const charts = await google.colab.kernel.invokeFunction(\n",
              "            'suggestCharts', [key], {});\n",
              "      } catch (error) {\n",
              "        console.error('Error during call to suggestCharts:', error);\n",
              "      }\n",
              "      quickchartButtonEl.classList.remove('colab-df-spinner');\n",
              "      quickchartButtonEl.classList.add('colab-df-quickchart-complete');\n",
              "    }\n",
              "    (() => {\n",
              "      let quickchartButtonEl =\n",
              "        document.querySelector('#df-917c474a-aada-497f-b1dd-9048fe610b83 button');\n",
              "      quickchartButtonEl.style.display =\n",
              "        google.colab.kernel.accessAllowed ? 'block' : 'none';\n",
              "    })();\n",
              "  </script>\n",
              "</div>\n",
              "\n",
              "    </div>\n",
              "  </div>\n"
            ],
            "application/vnd.google.colaboratory.intrinsic+json": {
              "type": "dataframe",
              "variable_name": "data",
              "summary": "{\n  \"name\": \"data\",\n  \"rows\": 303,\n  \"fields\": [\n    {\n      \"column\": \"age\",\n      \"properties\": {\n        \"dtype\": \"number\",\n        \"std\": 9,\n        \"min\": 29,\n        \"max\": 77,\n        \"num_unique_values\": 41,\n        \"samples\": [\n          46,\n          66,\n          48\n        ],\n        \"semantic_type\": \"\",\n        \"description\": \"\"\n      }\n    },\n    {\n      \"column\": \"sex\",\n      \"properties\": {\n        \"dtype\": \"number\",\n        \"std\": 0,\n        \"min\": 0,\n        \"max\": 1,\n        \"num_unique_values\": 2,\n        \"samples\": [\n          0,\n          1\n        ],\n        \"semantic_type\": \"\",\n        \"description\": \"\"\n      }\n    },\n    {\n      \"column\": \"cp\",\n      \"properties\": {\n        \"dtype\": \"number\",\n        \"std\": 1,\n        \"min\": 0,\n        \"max\": 3,\n        \"num_unique_values\": 4,\n        \"samples\": [\n          2,\n          0\n        ],\n        \"semantic_type\": \"\",\n        \"description\": \"\"\n      }\n    },\n    {\n      \"column\": \"trestbps\",\n      \"properties\": {\n        \"dtype\": \"number\",\n        \"std\": 17,\n        \"min\": 94,\n        \"max\": 200,\n        \"num_unique_values\": 49,\n        \"samples\": [\n          104,\n          123\n        ],\n        \"semantic_type\": \"\",\n        \"description\": \"\"\n      }\n    },\n    {\n      \"column\": \"chol\",\n      \"properties\": {\n        \"dtype\": \"number\",\n        \"std\": 51,\n        \"min\": 126,\n        \"max\": 564,\n        \"num_unique_values\": 152,\n        \"samples\": [\n          277,\n          169\n        ],\n        \"semantic_type\": \"\",\n        \"description\": \"\"\n      }\n    },\n    {\n      \"column\": \"fbs\",\n      \"properties\": {\n        \"dtype\": \"number\",\n        \"std\": 0,\n        \"min\": 0,\n        \"max\": 1,\n        \"num_unique_values\": 2,\n        \"samples\": [\n          0,\n          1\n        ],\n        \"semantic_type\": \"\",\n        \"description\": \"\"\n      }\n    },\n    {\n      \"column\": \"restecg\",\n      \"properties\": {\n        \"dtype\": \"number\",\n        \"std\": 0,\n        \"min\": 0,\n        \"max\": 2,\n        \"num_unique_values\": 3,\n        \"samples\": [\n          0,\n          1\n        ],\n        \"semantic_type\": \"\",\n        \"description\": \"\"\n      }\n    },\n    {\n      \"column\": \"thalach\",\n      \"properties\": {\n        \"dtype\": \"number\",\n        \"std\": 22,\n        \"min\": 71,\n        \"max\": 202,\n        \"num_unique_values\": 91,\n        \"samples\": [\n          159,\n          152\n        ],\n        \"semantic_type\": \"\",\n        \"description\": \"\"\n      }\n    },\n    {\n      \"column\": \"exang\",\n      \"properties\": {\n        \"dtype\": \"number\",\n        \"std\": 0,\n        \"min\": 0,\n        \"max\": 1,\n        \"num_unique_values\": 2,\n        \"samples\": [\n          1,\n          0\n        ],\n        \"semantic_type\": \"\",\n        \"description\": \"\"\n      }\n    },\n    {\n      \"column\": \"oldpeak\",\n      \"properties\": {\n        \"dtype\": \"number\",\n        \"std\": 1.1610750220686348,\n        \"min\": 0.0,\n        \"max\": 6.2,\n        \"num_unique_values\": 40,\n        \"samples\": [\n          1.9,\n          3.0\n        ],\n        \"semantic_type\": \"\",\n        \"description\": \"\"\n      }\n    },\n    {\n      \"column\": \"slope\",\n      \"properties\": {\n        \"dtype\": \"number\",\n        \"std\": 0,\n        \"min\": 0,\n        \"max\": 2,\n        \"num_unique_values\": 3,\n        \"samples\": [\n          0,\n          2\n        ],\n        \"semantic_type\": \"\",\n        \"description\": \"\"\n      }\n    },\n    {\n      \"column\": \"ca\",\n      \"properties\": {\n        \"dtype\": \"number\",\n        \"std\": 1,\n        \"min\": 0,\n        \"max\": 4,\n        \"num_unique_values\": 5,\n        \"samples\": [\n          2,\n          4\n        ],\n        \"semantic_type\": \"\",\n        \"description\": \"\"\n      }\n    },\n    {\n      \"column\": \"thal\",\n      \"properties\": {\n        \"dtype\": \"number\",\n        \"std\": 0,\n        \"min\": 0,\n        \"max\": 3,\n        \"num_unique_values\": 4,\n        \"samples\": [\n          2,\n          0\n        ],\n        \"semantic_type\": \"\",\n        \"description\": \"\"\n      }\n    },\n    {\n      \"column\": \"target\",\n      \"properties\": {\n        \"dtype\": \"number\",\n        \"std\": 0,\n        \"min\": 0,\n        \"max\": 1,\n        \"num_unique_values\": 2,\n        \"samples\": [\n          0,\n          1\n        ],\n        \"semantic_type\": \"\",\n        \"description\": \"\"\n      }\n    }\n  ]\n}"
            }
          },
          "metadata": {},
          "execution_count": 222
        }
      ]
    },
    {
      "cell_type": "code",
      "source": [
        "data.shape\n",
        "print(f\"Data has {data.shape[0]} rows and {data.shape[1]} columns.\")"
      ],
      "metadata": {
        "colab": {
          "base_uri": "https://localhost:8080/"
        },
        "id": "hZ6T-mD1C8iY",
        "outputId": "07af11d4-28c8-4607-d0ab-9b65171b3efc"
      },
      "execution_count": 223,
      "outputs": [
        {
          "output_type": "stream",
          "name": "stdout",
          "text": [
            "Data has 303 rows and 14 columns.\n"
          ]
        }
      ]
    },
    {
      "cell_type": "code",
      "source": [
        "# check for missing values\n",
        "missing_values = data.isna().values.any()\n",
        "print(f\"Missing values in the data frame? : {missing_values}\")"
      ],
      "metadata": {
        "colab": {
          "base_uri": "https://localhost:8080/"
        },
        "id": "sxOzz46JC_NK",
        "outputId": "f40da329-d8f6-40a6-8e0f-7e46e85bc7c1"
      },
      "execution_count": 224,
      "outputs": [
        {
          "output_type": "stream",
          "name": "stdout",
          "text": [
            "Missing values in the data frame? : False\n"
          ]
        }
      ]
    },
    {
      "cell_type": "code",
      "source": [
        "data.isna().sum()"
      ],
      "metadata": {
        "colab": {
          "base_uri": "https://localhost:8080/"
        },
        "id": "djWtbM5RDDIr",
        "outputId": "f27805a2-e90f-4ee9-ce4b-bc17753e165a"
      },
      "execution_count": 225,
      "outputs": [
        {
          "output_type": "execute_result",
          "data": {
            "text/plain": [
              "age         0\n",
              "sex         0\n",
              "cp          0\n",
              "trestbps    0\n",
              "chol        0\n",
              "fbs         0\n",
              "restecg     0\n",
              "thalach     0\n",
              "exang       0\n",
              "oldpeak     0\n",
              "slope       0\n",
              "ca          0\n",
              "thal        0\n",
              "target      0\n",
              "dtype: int64"
            ]
          },
          "metadata": {},
          "execution_count": 225
        }
      ]
    },
    {
      "cell_type": "markdown",
      "source": [
        "There are no any missing values in the dataset"
      ],
      "metadata": {
        "id": "B7aASP3NDHTo"
      }
    },
    {
      "cell_type": "code",
      "source": [
        "data.info()"
      ],
      "metadata": {
        "colab": {
          "base_uri": "https://localhost:8080/"
        },
        "id": "MJ97kh6EDKSG",
        "outputId": "36bb24a5-b124-4df3-9f0d-55abe689c13d"
      },
      "execution_count": 226,
      "outputs": [
        {
          "output_type": "stream",
          "name": "stdout",
          "text": [
            "<class 'pandas.core.frame.DataFrame'>\n",
            "RangeIndex: 303 entries, 0 to 302\n",
            "Data columns (total 14 columns):\n",
            " #   Column    Non-Null Count  Dtype  \n",
            "---  ------    --------------  -----  \n",
            " 0   age       303 non-null    int64  \n",
            " 1   sex       303 non-null    int64  \n",
            " 2   cp        303 non-null    int64  \n",
            " 3   trestbps  303 non-null    int64  \n",
            " 4   chol      303 non-null    int64  \n",
            " 5   fbs       303 non-null    int64  \n",
            " 6   restecg   303 non-null    int64  \n",
            " 7   thalach   303 non-null    int64  \n",
            " 8   exang     303 non-null    int64  \n",
            " 9   oldpeak   303 non-null    float64\n",
            " 10  slope     303 non-null    int64  \n",
            " 11  ca        303 non-null    int64  \n",
            " 12  thal      303 non-null    int64  \n",
            " 13  target    303 non-null    int64  \n",
            "dtypes: float64(1), int64(13)\n",
            "memory usage: 33.3 KB\n"
          ]
        }
      ]
    },
    {
      "cell_type": "code",
      "source": [
        "import matplotlib.pyplot as plt\n",
        "\n",
        "data_by_sex = data.groupby('target')['sex'].value_counts()\n"
      ],
      "metadata": {
        "id": "A-JBiyB9Gj8Q"
      },
      "execution_count": 227,
      "outputs": []
    },
    {
      "cell_type": "code",
      "source": [
        "data_by_sex"
      ],
      "metadata": {
        "colab": {
          "base_uri": "https://localhost:8080/"
        },
        "id": "4Rl4Xz3BHNRz",
        "outputId": "776ac527-268e-42b7-caa0-e31c8174a99c"
      },
      "execution_count": 228,
      "outputs": [
        {
          "output_type": "execute_result",
          "data": {
            "text/plain": [
              "target  sex\n",
              "0       1      114\n",
              "        0       24\n",
              "1       1       93\n",
              "        0       72\n",
              "Name: count, dtype: int64"
            ]
          },
          "metadata": {},
          "execution_count": 228
        }
      ]
    },
    {
      "cell_type": "code",
      "source": [
        "# show value of each bar\n",
        "def add_labls_price(x,y):\n",
        "  for k in range(len(x)):\n",
        "    plt.text(k,y[k],'$'+str(round(y[k],2)),ha='center',va='bottom')"
      ],
      "metadata": {
        "id": "KM_FneYuJp4J"
      },
      "execution_count": 229,
      "outputs": []
    },
    {
      "cell_type": "code",
      "source": [
        "import numpy as np\n",
        "low_heart_issue_male = data_by_sex[0, 0]\n",
        "low_heart_issue_female = data_by_sex[0, 1]\n",
        "\n",
        "heart_issue_male = data_by_sex[1,   0]\n",
        "heart_issue_female = data_by_sex[1,   1]\n",
        "\n",
        "male_counts = [low_heart_issue_male,heart_issue_male]\n",
        "female_counts = [low_heart_issue_female,heart_issue_female]\n",
        "\n",
        "# show value of each bar\n",
        "def add_labls_multibar(x,y,z):\n",
        "  for k in range(len(x)):\n",
        "    plt.text(x[k]-0.2,y[k],y[k],ha='center',va='bottom')\n",
        "    plt.text(x[k]+0.2,z[k],z[k],ha='center',va='bottom')\n",
        "\n",
        "# plot bar chart\n",
        "x_labels_list = ['No/Low Issue', 'Heart Issue']\n",
        "x = np.arange(len(x_labels_list))\n",
        "width=0.4\n",
        "\n",
        "plt.figure(figsize=(8,6))\n",
        "plt.bar(x-0.2,male_counts,color='blue',label='Male',width=width)\n",
        "plt.bar(x+0.2,female_counts,color='green',label='Female',width=width)\n",
        "plt.xticks(x,x_labels_list)\n",
        "add_labls_multibar(x,male_counts,female_counts)\n",
        "\n",
        "plt.ylabel('Sample Population')\n",
        "plt.title('Distribution of population with low and high heart issue')\n",
        "plt.legend()\n",
        "plt.show()"
      ],
      "metadata": {
        "colab": {
          "base_uri": "https://localhost:8080/",
          "height": 545
        },
        "id": "9YycElQGJzek",
        "outputId": "a22438c8-aba3-4deb-af09-364c0b2bce41"
      },
      "execution_count": 230,
      "outputs": [
        {
          "output_type": "display_data",
          "data": {
            "text/plain": [
              "<Figure size 800x600 with 1 Axes>"
            ],
            "image/png": "[encoded data removed]"
          },
          "metadata": {}
        }
      ]
    },
    {
      "cell_type": "code",
      "source": [
        "# Calculate the bins\n",
        "min_age = data['age'].min()\n",
        "max_age = data['age'].max()\n",
        "bins = np.linspace(min_age + 5, max_age + 5, 8)\n",
        "labels = [f'{int(bins[i])}-{int(bins[i+1])}' for i in range(len(bins)-1)]\n",
        "\n",
        "# Create a new column 'age_group' for the bins\n",
        "# right = false makes upper bound not inclusive\n",
        "data['age_group'] = pd.cut(data['age'], bins=bins, labels=labels, right=False)\n",
        "\n",
        "# Group by 'age_group' and calculate counts for 'sex' and 'target'\n",
        "age_grouped = data.groupby('age_group').agg(\n",
        "    male_heart_issue=('target', lambda x: ((data['sex'] == 0) & (x == 1)).sum()),\n",
        "    male_no_heart_issue=('target', lambda x: ((data['sex'] == 1) & (x == 0)).sum()),\n",
        "    female_heart_issue=('target', lambda x: ((data['sex'] == 0) & (x == 1)).sum()),\n",
        "    female_no_heart_issue=('target', lambda x: ((data['sex'] == 0) & (x == 0)).sum())\n",
        ").reset_index()\n",
        "\n",
        "# Plot the stacked histogram for males with heart issues and no issues\n",
        "fig, ax = plt.subplots(figsize=(12, 8))\n",
        "\n",
        "# Bar width\n",
        "bar_width = 0.35\n",
        "\n",
        "# Set positions of bars on X axis\n",
        "r1 = range(len(age_grouped))\n",
        "\n",
        "# Make the plot for males\n",
        "plt.bar(r1, age_grouped['male_heart_issue'], color='b', width=bar_width, edgecolor='grey', label='Male Heart Issue')\n",
        "plt.bar(r1, age_grouped['male_no_heart_issue'], color='g', width=bar_width, edgecolor='grey', label='Male No Heart Issue', bottom=age_grouped['male_heart_issue'])\n",
        "\n",
        "# Set positions of bars on X axis for females\n",
        "r2 = [x + bar_width for x in r1]\n",
        "\n",
        "# Make the plot for females\n",
        "plt.bar(r2, age_grouped['female_heart_issue'], color='brown', width=bar_width, edgecolor='grey', label='Female Heart Issue')\n",
        "plt.bar(r2, age_grouped['female_no_heart_issue'], color='skyblue', width=bar_width, edgecolor='grey', label='Female No Heart Issue', bottom=age_grouped['female_heart_issue'])\n",
        "\n",
        "# Add xticks on the middle of the group bars\n",
        "plt.xlabel('Age Group', fontweight='bold')\n",
        "plt.xticks([r + bar_width / 2 for r in range(len(age_grouped))], age_grouped['age_group'])\n",
        "\n",
        "# Add labels and title\n",
        "plt.ylabel('Count', fontweight='bold')\n",
        "plt.title('Stacked Histogram of Age Groups for Heart Issues and No Issues by Gender')\n",
        "\n",
        "# Create legend & Show graphic\n",
        "plt.legend()\n",
        "plt.show()"
      ],
      "metadata": {
        "colab": {
          "base_uri": "https://localhost:8080/",
          "height": 718
        },
        "id": "byCBi5YFAAAA",
        "outputId": "71ed1770-09d8-48f3-ecde-d963b1eabd01"
      },
      "execution_count": 231,
      "outputs": [
        {
          "output_type": "display_data",
          "data": {
            "text/plain": [
              "<Figure size 1200x800 with 1 Axes>"
            ],
            "image/png": "[encoded data removed]"
          },
          "metadata": {}
        }
      ]
    },
    {
      "cell_type": "code",
      "source": [
        "# Seperate the labels and Features from the dataset\n",
        "Y = data['target']\n",
        "\n",
        "X = data.drop(['age_group','target'],axis=1)"
      ],
      "metadata": {
        "id": "mpdebbwWDmEA"
      },
      "execution_count": 232,
      "outputs": []
    },
    {
      "cell_type": "code",
      "source": [
        "from sklearn.preprocessing import StandardScaler, MinMaxScaler\n",
        "\n",
        "# bringing the numerical datas to normal range\n",
        "scaler = StandardScaler()\n",
        "scaler.fit(X)\n",
        "print(scaler.mean_)"
      ],
      "metadata": {
        "colab": {
          "base_uri": "https://localhost:8080/"
        },
        "id": "O58IELoxD-vS",
        "outputId": "41fc3563-625b-4bb0-9df0-c2a288b9086c"
      },
      "execution_count": 233,
      "outputs": [
        {
          "output_type": "stream",
          "name": "stdout",
          "text": [
            "[5.43663366e+01 6.83168317e-01 9.66996700e-01 1.31623762e+02\n",
            " 2.46264026e+02 1.48514851e-01 5.28052805e-01 1.49646865e+02\n",
            " 3.26732673e-01 1.03960396e+00 1.39933993e+00 7.29372937e-01\n",
            " 2.31353135e+00]\n"
          ]
        }
      ]
    },
    {
      "cell_type": "code",
      "source": [
        "X_features = scaler.transform(X)"
      ],
      "metadata": {
        "id": "qC5LALL9F-3G"
      },
      "execution_count": 234,
      "outputs": []
    },
    {
      "cell_type": "code",
      "source": [
        "from sklearn.model_selection import train_test_split\n",
        "\n",
        "# Split the data into training and testing\n",
        "X_train, X_test, y_train, y_test = train_test_split(X_features,Y,test_size=.2)\n"
      ],
      "metadata": {
        "id": "IG2NnUllGNrd"
      },
      "execution_count": 235,
      "outputs": []
    },
    {
      "cell_type": "code",
      "source": [
        "# KNN\n",
        "from sklearn.neighbors import KNeighborsClassifier\n",
        "from sklearn.metrics import accuracy_score, confusion_matrix, precision_score\n",
        "from sklearn.metrics import recall_score, f1_score\n",
        "\n",
        "knn = KNeighborsClassifier()\n",
        "\n",
        "# Model TRAINING\n",
        "knn.fit(X_train,y_train)\n",
        "\n",
        "# Model PREDICTION\n",
        "pred_labels_knn = knn.predict(X_test)\n",
        "\n",
        "print(pred_labels_knn[1])\n",
        "print(y_test[1])\n",
        "\n",
        "# Accuracy of the model\n",
        "accuracy_knn = accuracy_score(y_test,pred_labels_knn)\n",
        "accuracy_knn = round(accuracy_knn * 100,2)\n",
        "print(f\"The accuracy of the KNN Model is {accuracy_knn}%\")\n",
        "\n",
        "# confusion matrix\n",
        "knn_cm = confusion_matrix(y_test,pred_labels_knn)\n",
        "print(\"confusion matrix:\")\n",
        "print(knn_cm,'\\n')\n",
        "\n",
        "# precision_score\n",
        "knn_ps = precision_score(y_test,pred_labels_knn,average='micro')\n",
        "print(f\"The precision_score of the KNN Model is {round(knn_ps,4)}\")\n",
        "\n",
        "\n",
        "# recall score\n",
        "knn_rs = recall_score(y_test,pred_labels_knn,average='micro')\n",
        "print(f\"The recall score of the KNN Model is {round(knn_rs,4)}\")\n",
        "\n",
        "\n",
        "# f1 score\n",
        "knn_fs = f1_score(y_test,pred_labels_knn,average='micro')\n",
        "print(f\"The f1 score of the KNN Model is {round(knn_fs,4)}\")\n"
      ],
      "metadata": {
        "colab": {
          "base_uri": "https://localhost:8080/"
        },
        "id": "vdib8GbCEkCf",
        "outputId": "48a30055-3639-40ab-9df8-0000f33f87e2"
      },
      "execution_count": 236,
      "outputs": [
        {
          "output_type": "stream",
          "name": "stdout",
          "text": [
            "1\n",
            "1\n",
            "The accuracy of the KNN Model is 77.05%\n",
            "confusion matrix:\n",
            "[[27  7]\n",
            " [ 7 20]] \n",
            "\n",
            "The precision_score of the KNN Model is 0.7705\n",
            "The recall score of the KNN Model is 0.7705\n",
            "The f1 score of the KNN Model is 0.7705\n"
          ]
        }
      ]
    },
    {
      "cell_type": "code",
      "source": [
        "# Decision Tree\n",
        "from sklearn.tree import DecisionTreeClassifier\n",
        "\n",
        "dec_tree = DecisionTreeClassifier()\n",
        "dec_tree.fit(X_train,y_train)\n",
        "\n",
        "pred_labels_dec_tree = dec_tree.predict(X_test)\n",
        "\n",
        "# Accuracy of the model\n",
        "accuracy_tree = accuracy_score(y_test,pred_labels_dec_tree)\n",
        "accuracy_tree = round(accuracy_tree * 100,2)\n",
        "print(f\"The accuracy of the Decision Tree is {accuracy_tree}%\")\n"
      ],
      "metadata": {
        "colab": {
          "base_uri": "https://localhost:8080/"
        },
        "id": "YfOREjOgFPbW",
        "outputId": "f0c94af8-a35a-4556-f407-d9e33e726363"
      },
      "execution_count": 237,
      "outputs": [
        {
          "output_type": "stream",
          "name": "stdout",
          "text": [
            "The accuracy of the Decision Tree is 86.89%\n"
          ]
        }
      ]
    },
    {
      "cell_type": "code",
      "source": [
        "# confusion matrix\n",
        "dt_cm = confusion_matrix(y_test,pred_labels_dec_tree)\n",
        "print(\"confusion matrix:\")\n",
        "print(dt_cm,'\\n')\n",
        "\n",
        "# precision_score\n",
        "dt_ps = precision_score(y_test,pred_labels_dec_tree,average='weighted')\n",
        "print(f\"The precision_score of the decision tree is {round(dt_ps,4)}\")\n",
        "\n",
        "# recall score\n",
        "dt_rs = recall_score(y_test,pred_labels_dec_tree,average='weighted')\n",
        "print(f\"The precision_score of the decision tree is {round(dt_rs,4)}\")\n",
        "\n",
        "# f1 score\n",
        "dt_fs = f1_score(y_test,pred_labels_dec_tree,average='weighted')\n",
        "print(f\"The precision_score of the decision tree is {round(dt_fs,4)}\")"
      ],
      "metadata": {
        "colab": {
          "base_uri": "https://localhost:8080/"
        },
        "id": "r6RdGTDSFmPF",
        "outputId": "ec0c9799-02b2-40c7-ff40-dc1682d14838"
      },
      "execution_count": 238,
      "outputs": [
        {
          "output_type": "stream",
          "name": "stdout",
          "text": [
            "confusion matrix:\n",
            "[[28  6]\n",
            " [ 2 25]] \n",
            "\n",
            "The precision_score of the decision tree is 0.8772\n",
            "The precision_score of the decision tree is 0.8689\n",
            "The precision_score of the decision tree is 0.8693\n"
          ]
        }
      ]
    },
    {
      "cell_type": "code",
      "source": [
        "# Random Forest\n",
        "from sklearn.ensemble import RandomForestClassifier\n",
        "\n",
        "random = RandomForestClassifier()\n",
        "random.fit(X_train,y_train)\n",
        "\n",
        "pred_lbls_rf = random.predict(X_test)\n",
        "pred_lbls_rf.shape\n",
        "\n",
        "# Accuracy of the model\n",
        "accuracy_ran_forest= accuracy_score(y_test,pred_lbls_rf)\n",
        "accuracy_ran_forest = round(accuracy_ran_forest * 100,2)\n",
        "print(f\"The accuracy of the Random Forest Model is {accuracy_ran_forest}%\")\n"
      ],
      "metadata": {
        "colab": {
          "base_uri": "https://localhost:8080/"
        },
        "id": "0Sf_c1KBGyYY",
        "outputId": "534e4420-9fc5-4956-d7f1-23887733ebf1"
      },
      "execution_count": 239,
      "outputs": [
        {
          "output_type": "stream",
          "name": "stdout",
          "text": [
            "The accuracy of the Random Forest Model is 91.8%\n"
          ]
        }
      ]
    },
    {
      "cell_type": "code",
      "source": [
        "# confusion matrix\n",
        "rf_cm = confusion_matrix(y_test,pred_lbls_rf)\n",
        "print(\"confusion matrix:\")\n",
        "print(rf_cm,'\\n')\n",
        "\n",
        "# precision_score\n",
        "rf_ps = precision_score(y_test,pred_lbls_rf,average='weighted')\n",
        "print(f\"The precision_score of the random forest is {round(rf_ps,4)}\")\n",
        "\n",
        "# recall score\n",
        "rf_rs = recall_score(y_test,pred_lbls_rf,average='weighted')\n",
        "print(f\"The precision_score of the random forest is {round(rf_rs,4)}\")\n",
        "\n",
        "# f1 score\n",
        "rf_fs = f1_score(y_test,pred_lbls_rf,average='weighted')\n",
        "print(f\"The precision_score of the random forest is {round(rf_fs,4)}\")"
      ],
      "metadata": {
        "colab": {
          "base_uri": "https://localhost:8080/"
        },
        "id": "0jxiXd_7G25A",
        "outputId": "9f2a916e-94dd-48a8-b875-2fea49fc3590"
      },
      "execution_count": 240,
      "outputs": [
        {
          "output_type": "stream",
          "name": "stdout",
          "text": [
            "confusion matrix:\n",
            "[[31  3]\n",
            " [ 2 25]] \n",
            "\n",
            "The precision_score of the random forest is 0.9188\n",
            "The precision_score of the random forest is 0.918\n",
            "The precision_score of the random forest is 0.9182\n"
          ]
        }
      ]
    },
    {
      "cell_type": "code",
      "source": [
        "# XGBoost\n",
        "from xgboost import XGBClassifier\n",
        "\n",
        "# Instantiation\n",
        "model = XGBClassifier()\n",
        "\n",
        "# Fitting the model\n",
        "model.fit(X_train, y_train)\n",
        "\n",
        "# Predict the model\n",
        "pred_lbls_xg = model.predict(X_test)\n",
        "\n",
        "\n",
        "# Accuracy of the model\n",
        "accuracy_xg= accuracy_score(y_test,pred_lbls_xg)\n",
        "accuracy_xg = round(accuracy_xg * 100,2)\n",
        "print(f\"The accuracy of the XGBoost Model is {accuracy_xg}%\")\n",
        "\n",
        "# confusion matrix\n",
        "xg_cm = confusion_matrix(y_test,pred_lbls_xg)\n",
        "print(\"confusion matrix:\")\n",
        "print(xg_cm,'\\n')\n",
        "\n",
        "# precision_score\n",
        "xg_ps = precision_score(y_test,pred_lbls_xg,average='weighted')\n",
        "print(f\"The precision_score of the XGBoost Model is {round(xg_ps,4)}\")\n",
        "\n",
        "# recall score\n",
        "xg_rs = recall_score(y_test,pred_lbls_xg,average='weighted')\n",
        "print(f\"The precision_score of the XGBoost Model is {round(xg_rs,4)}\")\n",
        "\n",
        "# f1 score\n",
        "xg_fs = f1_score(y_test,pred_lbls_xg,average='weighted')\n",
        "print(f\"The precision_score of the XGBoost Model is {round(xg_fs,4)}\")"
      ],
      "metadata": {
        "colab": {
          "base_uri": "https://localhost:8080/"
        },
        "id": "nmcnc5TWHd8k",
        "outputId": "6f09b529-9ce9-473f-cf35-f8285effbe27"
      },
      "execution_count": 241,
      "outputs": [
        {
          "output_type": "stream",
          "name": "stdout",
          "text": [
            "The accuracy of the XGBoost Model is 85.25%\n",
            "confusion matrix:\n",
            "[[30  4]\n",
            " [ 5 22]] \n",
            "\n",
            "The precision_score of the XGBoost Model is 0.8523\n",
            "The precision_score of the XGBoost Model is 0.8525\n",
            "The precision_score of the XGBoost Model is 0.8521\n"
          ]
        }
      ]
    },
    {
      "cell_type": "code",
      "source": [
        "from tensorflow.keras.models import Sequential\n",
        "from tensorflow.keras.layers import Dense\n",
        "# Implementing Neural Network\n",
        "model = Sequential()\n",
        "\n",
        "# Input Layer with input size 13\n",
        "model.add(Dense(64,input_shape=(13,),activation='relu'))\n",
        "\n",
        "# Hidden Layer\n",
        "model.add(Dense(32,activation='relu'))\n",
        "model.add(Dense(16,activation='relu'))\n",
        "model.add(Dense(8,activation='relu'))\n",
        "\n",
        "# Output Layer\n",
        "model.add(Dense(1,activation='sigmoid'))"
      ],
      "metadata": {
        "id": "N-8eb4k1ISxw"
      },
      "execution_count": 242,
      "outputs": []
    },
    {
      "cell_type": "code",
      "source": [
        "# compile the model\n",
        "model.compile(loss='binary_crossentropy',optimizer='adam',metrics=['accuracy'])\n",
        "\n",
        "# training the model\n",
        "model.fit(X_train,y_train,epochs=150,batch_size=10)"
      ],
      "metadata": {
        "colab": {
          "base_uri": "https://localhost:8080/"
        },
        "id": "lJgizZ9oJh6_",
        "outputId": "59b06774-df78-476b-ba42-d8c3067b583a"
      },
      "execution_count": 243,
      "outputs": [
        {
          "output_type": "stream",
          "name": "stdout",
          "text": [
            "Epoch 1/150\n",
            "25/25 [==============================] - 2s 5ms/step - loss: 0.6952 - accuracy: 0.5826\n",
            "Epoch 2/150\n",
            "25/25 [==============================] - 0s 5ms/step - loss: 0.6710 - accuracy: 0.7769\n",
            "Epoch 3/150\n",
            "25/25 [==============================] - 0s 5ms/step - loss: 0.6028 - accuracy: 0.7851\n",
            "Epoch 4/150\n",
            "25/25 [==============================] - 0s 4ms/step - loss: 0.5133 - accuracy: 0.7893\n",
            "Epoch 5/150\n",
            "25/25 [==============================] - 0s 4ms/step - loss: 0.4479 - accuracy: 0.8430\n",
            "Epoch 6/150\n",
            "25/25 [==============================] - 0s 5ms/step - loss: 0.3940 - accuracy: 0.8678\n",
            "Epoch 7/150\n",
            "25/25 [==============================] - 0s 4ms/step - loss: 0.3608 - accuracy: 0.8554\n",
            "Epoch 8/150\n",
            "25/25 [==============================] - 0s 4ms/step - loss: 0.3375 - accuracy: 0.8843\n",
            "Epoch 9/150\n",
            "25/25 [==============================] - 0s 5ms/step - loss: 0.3203 - accuracy: 0.8760\n",
            "Epoch 10/150\n",
            "25/25 [==============================] - 0s 4ms/step - loss: 0.3072 - accuracy: 0.8843\n",
            "Epoch 11/150\n",
            "25/25 [==============================] - 0s 3ms/step - loss: 0.2977 - accuracy: 0.8802\n",
            "Epoch 12/150\n",
            "25/25 [==============================] - 0s 3ms/step - loss: 0.2848 - accuracy: 0.8967\n",
            "Epoch 13/150\n",
            "25/25 [==============================] - 0s 3ms/step - loss: 0.2772 - accuracy: 0.8843\n",
            "Epoch 14/150\n",
            "25/25 [==============================] - 0s 3ms/step - loss: 0.2740 - accuracy: 0.8884\n",
            "Epoch 15/150\n",
            "25/25 [==============================] - 0s 3ms/step - loss: 0.2554 - accuracy: 0.8967\n",
            "Epoch 16/150\n",
            "25/25 [==============================] - 0s 3ms/step - loss: 0.2462 - accuracy: 0.9008\n",
            "Epoch 17/150\n",
            "25/25 [==============================] - 0s 3ms/step - loss: 0.2314 - accuracy: 0.9132\n",
            "Epoch 18/150\n",
            "25/25 [==============================] - 0s 3ms/step - loss: 0.2209 - accuracy: 0.9215\n",
            "Epoch 19/150\n",
            "25/25 [==============================] - 0s 3ms/step - loss: 0.2137 - accuracy: 0.9132\n",
            "Epoch 20/150\n",
            "25/25 [==============================] - 0s 3ms/step - loss: 0.1967 - accuracy: 0.9298\n",
            "Epoch 21/150\n",
            "25/25 [==============================] - 0s 3ms/step - loss: 0.1807 - accuracy: 0.9298\n",
            "Epoch 22/150\n",
            "25/25 [==============================] - 0s 2ms/step - loss: 0.1653 - accuracy: 0.9339\n",
            "Epoch 23/150\n",
            "25/25 [==============================] - 0s 3ms/step - loss: 0.1505 - accuracy: 0.9421\n",
            "Epoch 24/150\n",
            "25/25 [==============================] - 0s 3ms/step - loss: 0.1404 - accuracy: 0.9545\n",
            "Epoch 25/150\n",
            "25/25 [==============================] - 0s 3ms/step - loss: 0.1252 - accuracy: 0.9669\n",
            "Epoch 26/150\n",
            "25/25 [==============================] - 0s 2ms/step - loss: 0.1124 - accuracy: 0.9628\n",
            "Epoch 27/150\n",
            "25/25 [==============================] - 0s 3ms/step - loss: 0.1028 - accuracy: 0.9752\n",
            "Epoch 28/150\n",
            "25/25 [==============================] - 0s 3ms/step - loss: 0.0915 - accuracy: 0.9752\n",
            "Epoch 29/150\n",
            "25/25 [==============================] - 0s 3ms/step - loss: 0.0898 - accuracy: 0.9793\n",
            "Epoch 30/150\n",
            "25/25 [==============================] - 0s 3ms/step - loss: 0.0757 - accuracy: 0.9793\n",
            "Epoch 31/150\n",
            "25/25 [==============================] - 0s 3ms/step - loss: 0.0716 - accuracy: 0.9793\n",
            "Epoch 32/150\n",
            "25/25 [==============================] - 0s 3ms/step - loss: 0.0598 - accuracy: 0.9835\n",
            "Epoch 33/150\n",
            "25/25 [==============================] - 0s 3ms/step - loss: 0.0539 - accuracy: 0.9835\n",
            "Epoch 34/150\n",
            "25/25 [==============================] - 0s 3ms/step - loss: 0.0521 - accuracy: 0.9876\n",
            "Epoch 35/150\n",
            "25/25 [==============================] - 0s 3ms/step - loss: 0.0453 - accuracy: 0.9917\n",
            "Epoch 36/150\n",
            "25/25 [==============================] - 0s 3ms/step - loss: 0.0510 - accuracy: 0.9876\n",
            "Epoch 37/150\n",
            "25/25 [==============================] - 0s 3ms/step - loss: 0.0413 - accuracy: 0.9876\n",
            "Epoch 38/150\n",
            "25/25 [==============================] - 0s 3ms/step - loss: 0.0361 - accuracy: 0.9917\n",
            "Epoch 39/150\n",
            "25/25 [==============================] - 0s 3ms/step - loss: 0.0283 - accuracy: 0.9917\n",
            "Epoch 40/150\n",
            "25/25 [==============================] - 0s 3ms/step - loss: 0.0236 - accuracy: 0.9917\n",
            "Epoch 41/150\n",
            "25/25 [==============================] - 0s 3ms/step - loss: 0.0205 - accuracy: 0.9959\n",
            "Epoch 42/150\n",
            "25/25 [==============================] - 0s 3ms/step - loss: 0.0173 - accuracy: 1.0000\n",
            "Epoch 43/150\n",
            "25/25 [==============================] - 0s 3ms/step - loss: 0.0155 - accuracy: 1.0000\n",
            "Epoch 44/150\n",
            "25/25 [==============================] - 0s 3ms/step - loss: 0.0140 - accuracy: 1.0000\n",
            "Epoch 45/150\n",
            "25/25 [==============================] - 0s 3ms/step - loss: 0.0119 - accuracy: 1.0000\n",
            "Epoch 46/150\n",
            "25/25 [==============================] - 0s 3ms/step - loss: 0.0108 - accuracy: 1.0000\n",
            "Epoch 47/150\n",
            "25/25 [==============================] - 0s 3ms/step - loss: 0.0102 - accuracy: 1.0000\n",
            "Epoch 48/150\n",
            "25/25 [==============================] - 0s 3ms/step - loss: 0.0085 - accuracy: 1.0000\n",
            "Epoch 49/150\n",
            "25/25 [==============================] - 0s 3ms/step - loss: 0.0078 - accuracy: 1.0000\n",
            "Epoch 50/150\n",
            "25/25 [==============================] - 0s 3ms/step - loss: 0.0069 - accuracy: 1.0000\n",
            "Epoch 51/150\n",
            "25/25 [==============================] - 0s 3ms/step - loss: 0.0065 - accuracy: 1.0000\n",
            "Epoch 52/150\n",
            "25/25 [==============================] - 0s 3ms/step - loss: 0.0059 - accuracy: 1.0000\n",
            "Epoch 53/150\n",
            "25/25 [==============================] - 0s 3ms/step - loss: 0.0055 - accuracy: 1.0000\n",
            "Epoch 54/150\n",
            "25/25 [==============================] - 0s 3ms/step - loss: 0.0050 - accuracy: 1.0000\n",
            "Epoch 55/150\n",
            "25/25 [==============================] - 0s 3ms/step - loss: 0.0047 - accuracy: 1.0000\n",
            "Epoch 56/150\n",
            "25/25 [==============================] - 0s 3ms/step - loss: 0.0043 - accuracy: 1.0000\n",
            "Epoch 57/150\n",
            "25/25 [==============================] - 0s 3ms/step - loss: 0.0041 - accuracy: 1.0000\n",
            "Epoch 58/150\n",
            "25/25 [==============================] - 0s 3ms/step - loss: 0.0040 - accuracy: 1.0000\n",
            "Epoch 59/150\n",
            "25/25 [==============================] - 0s 2ms/step - loss: 0.0036 - accuracy: 1.0000\n",
            "Epoch 60/150\n",
            "25/25 [==============================] - 0s 3ms/step - loss: 0.0034 - accuracy: 1.0000\n",
            "Epoch 61/150\n",
            "25/25 [==============================] - 0s 3ms/step - loss: 0.0031 - accuracy: 1.0000\n",
            "Epoch 62/150\n",
            "25/25 [==============================] - 0s 3ms/step - loss: 0.0029 - accuracy: 1.0000\n",
            "Epoch 63/150\n",
            "25/25 [==============================] - 0s 3ms/step - loss: 0.0028 - accuracy: 1.0000\n",
            "Epoch 64/150\n",
            "25/25 [==============================] - 0s 3ms/step - loss: 0.0026 - accuracy: 1.0000\n",
            "Epoch 65/150\n",
            "25/25 [==============================] - 0s 3ms/step - loss: 0.0024 - accuracy: 1.0000\n",
            "Epoch 66/150\n",
            "25/25 [==============================] - 0s 3ms/step - loss: 0.0023 - accuracy: 1.0000\n",
            "Epoch 67/150\n",
            "25/25 [==============================] - 0s 3ms/step - loss: 0.0022 - accuracy: 1.0000\n",
            "Epoch 68/150\n",
            "25/25 [==============================] - 0s 3ms/step - loss: 0.0021 - accuracy: 1.0000\n",
            "Epoch 69/150\n",
            "25/25 [==============================] - 0s 3ms/step - loss: 0.0020 - accuracy: 1.0000\n",
            "Epoch 70/150\n",
            "25/25 [==============================] - 0s 3ms/step - loss: 0.0019 - accuracy: 1.0000\n",
            "Epoch 71/150\n",
            "25/25 [==============================] - 0s 3ms/step - loss: 0.0018 - accuracy: 1.0000\n",
            "Epoch 72/150\n",
            "25/25 [==============================] - 0s 3ms/step - loss: 0.0018 - accuracy: 1.0000\n",
            "Epoch 73/150\n",
            "25/25 [==============================] - 0s 3ms/step - loss: 0.0016 - accuracy: 1.0000\n",
            "Epoch 74/150\n",
            "25/25 [==============================] - 0s 3ms/step - loss: 0.0016 - accuracy: 1.0000\n",
            "Epoch 75/150\n",
            "25/25 [==============================] - 0s 3ms/step - loss: 0.0015 - accuracy: 1.0000\n",
            "Epoch 76/150\n",
            "25/25 [==============================] - 0s 3ms/step - loss: 0.0014 - accuracy: 1.0000\n",
            "Epoch 77/150\n",
            "25/25 [==============================] - 0s 3ms/step - loss: 0.0013 - accuracy: 1.0000\n",
            "Epoch 78/150\n",
            "25/25 [==============================] - 0s 3ms/step - loss: 0.0013 - accuracy: 1.0000\n",
            "Epoch 79/150\n",
            "25/25 [==============================] - 0s 4ms/step - loss: 0.0012 - accuracy: 1.0000\n",
            "Epoch 80/150\n",
            "25/25 [==============================] - 0s 3ms/step - loss: 0.0012 - accuracy: 1.0000\n",
            "Epoch 81/150\n",
            "25/25 [==============================] - 0s 3ms/step - loss: 0.0011 - accuracy: 1.0000\n",
            "Epoch 82/150\n",
            "25/25 [==============================] - 0s 3ms/step - loss: 0.0011 - accuracy: 1.0000\n",
            "Epoch 83/150\n",
            "25/25 [==============================] - 0s 3ms/step - loss: 0.0010 - accuracy: 1.0000\n",
            "Epoch 84/150\n",
            "25/25 [==============================] - 0s 3ms/step - loss: 0.0010 - accuracy: 1.0000\n",
            "Epoch 85/150\n",
            "25/25 [==============================] - 0s 3ms/step - loss: 9.3937e-04 - accuracy: 1.0000\n",
            "Epoch 86/150\n",
            "25/25 [==============================] - 0s 3ms/step - loss: 8.9848e-04 - accuracy: 1.0000\n",
            "Epoch 87/150\n",
            "25/25 [==============================] - 0s 3ms/step - loss: 8.6146e-04 - accuracy: 1.0000\n",
            "Epoch 88/150\n",
            "25/25 [==============================] - 0s 3ms/step - loss: 8.2770e-04 - accuracy: 1.0000\n",
            "Epoch 89/150\n",
            "25/25 [==============================] - 0s 3ms/step - loss: 7.9352e-04 - accuracy: 1.0000\n",
            "Epoch 90/150\n",
            "25/25 [==============================] - 0s 3ms/step - loss: 7.6325e-04 - accuracy: 1.0000\n",
            "Epoch 91/150\n",
            "25/25 [==============================] - 0s 3ms/step - loss: 7.3848e-04 - accuracy: 1.0000\n",
            "Epoch 92/150\n",
            "25/25 [==============================] - 0s 3ms/step - loss: 7.1426e-04 - accuracy: 1.0000\n",
            "Epoch 93/150\n",
            "25/25 [==============================] - 0s 2ms/step - loss: 6.8035e-04 - accuracy: 1.0000\n",
            "Epoch 94/150\n",
            "25/25 [==============================] - 0s 3ms/step - loss: 6.5161e-04 - accuracy: 1.0000\n",
            "Epoch 95/150\n",
            "25/25 [==============================] - 0s 3ms/step - loss: 6.4202e-04 - accuracy: 1.0000\n",
            "Epoch 96/150\n",
            "25/25 [==============================] - 0s 3ms/step - loss: 6.1595e-04 - accuracy: 1.0000\n",
            "Epoch 97/150\n",
            "25/25 [==============================] - 0s 3ms/step - loss: 5.8721e-04 - accuracy: 1.0000\n",
            "Epoch 98/150\n",
            "25/25 [==============================] - 0s 3ms/step - loss: 5.6926e-04 - accuracy: 1.0000\n",
            "Epoch 99/150\n",
            "25/25 [==============================] - 0s 3ms/step - loss: 5.6003e-04 - accuracy: 1.0000\n",
            "Epoch 100/150\n",
            "25/25 [==============================] - 0s 3ms/step - loss: 5.2629e-04 - accuracy: 1.0000\n",
            "Epoch 101/150\n",
            "25/25 [==============================] - 0s 3ms/step - loss: 5.0560e-04 - accuracy: 1.0000\n",
            "Epoch 102/150\n",
            "25/25 [==============================] - 0s 3ms/step - loss: 4.9774e-04 - accuracy: 1.0000\n",
            "Epoch 103/150\n",
            "25/25 [==============================] - 0s 3ms/step - loss: 4.7956e-04 - accuracy: 1.0000\n",
            "Epoch 104/150\n",
            "25/25 [==============================] - 0s 3ms/step - loss: 4.7487e-04 - accuracy: 1.0000\n",
            "Epoch 105/150\n",
            "25/25 [==============================] - 0s 3ms/step - loss: 4.6102e-04 - accuracy: 1.0000\n",
            "Epoch 106/150\n",
            "25/25 [==============================] - 0s 3ms/step - loss: 4.3521e-04 - accuracy: 1.0000\n",
            "Epoch 107/150\n",
            "25/25 [==============================] - 0s 3ms/step - loss: 4.2818e-04 - accuracy: 1.0000\n",
            "Epoch 108/150\n",
            "25/25 [==============================] - 0s 3ms/step - loss: 3.9997e-04 - accuracy: 1.0000\n",
            "Epoch 109/150\n",
            "25/25 [==============================] - 0s 3ms/step - loss: 3.9384e-04 - accuracy: 1.0000\n",
            "Epoch 110/150\n",
            "25/25 [==============================] - 0s 3ms/step - loss: 3.7557e-04 - accuracy: 1.0000\n",
            "Epoch 111/150\n",
            "25/25 [==============================] - 0s 3ms/step - loss: 3.6815e-04 - accuracy: 1.0000\n",
            "Epoch 112/150\n",
            "25/25 [==============================] - 0s 3ms/step - loss: 3.5803e-04 - accuracy: 1.0000\n",
            "Epoch 113/150\n",
            "25/25 [==============================] - 0s 3ms/step - loss: 3.4353e-04 - accuracy: 1.0000\n",
            "Epoch 114/150\n",
            "25/25 [==============================] - 0s 3ms/step - loss: 3.3062e-04 - accuracy: 1.0000\n",
            "Epoch 115/150\n",
            "25/25 [==============================] - 0s 3ms/step - loss: 3.1918e-04 - accuracy: 1.0000\n",
            "Epoch 116/150\n",
            "25/25 [==============================] - 0s 3ms/step - loss: 3.1194e-04 - accuracy: 1.0000\n",
            "Epoch 117/150\n",
            "25/25 [==============================] - 0s 3ms/step - loss: 3.0124e-04 - accuracy: 1.0000\n",
            "Epoch 118/150\n",
            "25/25 [==============================] - 0s 3ms/step - loss: 2.9497e-04 - accuracy: 1.0000\n",
            "Epoch 119/150\n",
            "25/25 [==============================] - 0s 3ms/step - loss: 2.8616e-04 - accuracy: 1.0000\n",
            "Epoch 120/150\n",
            "25/25 [==============================] - 0s 3ms/step - loss: 2.8198e-04 - accuracy: 1.0000\n",
            "Epoch 121/150\n",
            "25/25 [==============================] - 0s 3ms/step - loss: 2.7028e-04 - accuracy: 1.0000\n",
            "Epoch 122/150\n",
            "25/25 [==============================] - 0s 3ms/step - loss: 2.6051e-04 - accuracy: 1.0000\n",
            "Epoch 123/150\n",
            "25/25 [==============================] - 0s 3ms/step - loss: 2.5666e-04 - accuracy: 1.0000\n",
            "Epoch 124/150\n",
            "25/25 [==============================] - 0s 3ms/step - loss: 2.4784e-04 - accuracy: 1.0000\n",
            "Epoch 125/150\n",
            "25/25 [==============================] - 0s 3ms/step - loss: 2.3925e-04 - accuracy: 1.0000\n",
            "Epoch 126/150\n",
            "25/25 [==============================] - 0s 3ms/step - loss: 2.3781e-04 - accuracy: 1.0000\n",
            "Epoch 127/150\n",
            "25/25 [==============================] - 0s 3ms/step - loss: 2.2837e-04 - accuracy: 1.0000\n",
            "Epoch 128/150\n",
            "25/25 [==============================] - 0s 3ms/step - loss: 2.2199e-04 - accuracy: 1.0000\n",
            "Epoch 129/150\n",
            "25/25 [==============================] - 0s 3ms/step - loss: 2.1649e-04 - accuracy: 1.0000\n",
            "Epoch 130/150\n",
            "25/25 [==============================] - 0s 3ms/step - loss: 2.0942e-04 - accuracy: 1.0000\n",
            "Epoch 131/150\n",
            "25/25 [==============================] - 0s 3ms/step - loss: 2.0577e-04 - accuracy: 1.0000\n",
            "Epoch 132/150\n",
            "25/25 [==============================] - 0s 3ms/step - loss: 2.0001e-04 - accuracy: 1.0000\n",
            "Epoch 133/150\n",
            "25/25 [==============================] - 0s 5ms/step - loss: 1.9580e-04 - accuracy: 1.0000\n",
            "Epoch 134/150\n",
            "25/25 [==============================] - 0s 5ms/step - loss: 1.8896e-04 - accuracy: 1.0000\n",
            "Epoch 135/150\n",
            "25/25 [==============================] - 0s 5ms/step - loss: 1.8475e-04 - accuracy: 1.0000\n",
            "Epoch 136/150\n",
            "25/25 [==============================] - 0s 4ms/step - loss: 1.8307e-04 - accuracy: 1.0000\n",
            "Epoch 137/150\n",
            "25/25 [==============================] - 0s 4ms/step - loss: 1.7505e-04 - accuracy: 1.0000\n",
            "Epoch 138/150\n",
            "25/25 [==============================] - 0s 4ms/step - loss: 1.7374e-04 - accuracy: 1.0000\n",
            "Epoch 139/150\n",
            "25/25 [==============================] - 0s 5ms/step - loss: 1.6808e-04 - accuracy: 1.0000\n",
            "Epoch 140/150\n",
            "25/25 [==============================] - 0s 4ms/step - loss: 1.6356e-04 - accuracy: 1.0000\n",
            "Epoch 141/150\n",
            "25/25 [==============================] - 0s 3ms/step - loss: 1.5833e-04 - accuracy: 1.0000\n",
            "Epoch 142/150\n",
            "25/25 [==============================] - 0s 3ms/step - loss: 1.5859e-04 - accuracy: 1.0000\n",
            "Epoch 143/150\n",
            "25/25 [==============================] - 0s 4ms/step - loss: 1.5518e-04 - accuracy: 1.0000\n",
            "Epoch 144/150\n",
            "25/25 [==============================] - 0s 4ms/step - loss: 1.4834e-04 - accuracy: 1.0000\n",
            "Epoch 145/150\n",
            "25/25 [==============================] - 0s 4ms/step - loss: 1.4524e-04 - accuracy: 1.0000\n",
            "Epoch 146/150\n",
            "25/25 [==============================] - 0s 4ms/step - loss: 1.4122e-04 - accuracy: 1.0000\n",
            "Epoch 147/150\n",
            "25/25 [==============================] - 0s 5ms/step - loss: 1.3797e-04 - accuracy: 1.0000\n",
            "Epoch 148/150\n",
            "25/25 [==============================] - 0s 5ms/step - loss: 1.3505e-04 - accuracy: 1.0000\n",
            "Epoch 149/150\n",
            "25/25 [==============================] - 0s 5ms/step - loss: 1.3240e-04 - accuracy: 1.0000\n",
            "Epoch 150/150\n",
            "25/25 [==============================] - 0s 4ms/step - loss: 1.2938e-04 - accuracy: 1.0000\n"
          ]
        },
        {
          "output_type": "execute_result",
          "data": {
            "text/plain": [
              "<keras.src.callbacks.History at 0x7e36a55cb100>"
            ]
          },
          "metadata": {},
          "execution_count": 243
        }
      ]
    },
    {
      "cell_type": "code",
      "source": [
        "import warnings\n",
        "\n",
        "# Suppress all warnings\n",
        "warnings.filterwarnings('ignore')\n",
        "# Evaluate the Model\n",
        "_,accuracy_nn = model.evaluate(X_test,y_test)\n",
        "accuracy_nn = round(accuracy_nn * 100,2)\n",
        "print(f'Accuracy: {accuracy_nn}%')\n",
        "\n",
        "pred_probs_nn = model.predict(X_test)\n",
        "\n",
        "# Threshold probabilities to get class labels\n",
        "pred_labels_nn = (pred_probs_nn > 0.5).astype(int)\n",
        "\n",
        "# # Ensure y_test is a flat array if it is not\n",
        "# if len(y_test.shape) > 1 and y_test.shape[1] == 1:\n",
        "#     y_test = y_test.ravel()\n",
        "\n",
        "# confusion matrix\n",
        "nn_cm = confusion_matrix(y_test, pred_labels_nn)\n",
        "print(\"confusion matrix:\")\n",
        "print(nn_cm,'\\n')\n",
        "\n",
        "# precision_score\n",
        "nn_ps = precision_score(y_test,pred_labels_nn,average='weighted')\n",
        "print(f\"The precision_score of the Neural Network is {round(nn_ps,4)}\")\n",
        "\n",
        "# recall score\n",
        "nn_rs = recall_score(y_test,pred_labels_nn,average='weighted')\n",
        "print(f\"The precision_score of the Neural Network is {round(nn_rs,4)}\")\n",
        "\n",
        "# f1 score\n",
        "nn_fs = f1_score(y_test,pred_labels_nn,average='weighted')\n",
        "print(f\"The precision_score of the Neural Network is {round(nn_fs,4)}\")"
      ],
      "metadata": {
        "colab": {
          "base_uri": "https://localhost:8080/"
        },
        "id": "F_rfI-0GKQcG",
        "outputId": "d86983ed-1388-489f-be2c-50dfb0d10eac"
      },
      "execution_count": 246,
      "outputs": [
        {
          "output_type": "stream",
          "name": "stdout",
          "text": [
            "2/2 [==============================] - 0s 14ms/step - loss: 1.1130 - accuracy: 0.8361\n",
            "Accuracy: 83.61%\n",
            "2/2 [==============================] - 0s 4ms/step\n",
            "confusion matrix:\n",
            "[[30  4]\n",
            " [ 6 21]] \n",
            "\n",
            "The precision_score of the Neural Network is 0.8363\n",
            "The precision_score of the Neural Network is 0.8361\n",
            "The precision_score of the Neural Network is 0.8353\n"
          ]
        }
      ]
    },
    {
      "cell_type": "code",
      "source": [
        "# Comparision of all accuracies with a bar chart\n",
        "x_labels = ['KNN', 'Decision Tree','Random Forrest','XG Boost','Neural Network']\n",
        "y_values = [accuracy_knn, accuracy_tree,accuracy_ran_forest,accuracy_xg,accuracy_nn]\n",
        "\n",
        "plt.figure(figsize=(8, 6))\n",
        "plt.bar(x_labels,y_values,color=['blue','green','red','purple','orange'])\n",
        "# show value on top of each bar\n",
        "for index, value in enumerate(y_values):\n",
        "    plt.text(index, value, str(value)+'%', ha='center', va='bottom')\n",
        "\n",
        "plt.ylim(0,100)\n",
        "plt.xlabel('Supervised ML Models')\n",
        "plt.ylabel('Accuracy')\n",
        "plt.title('Accuracy comparision between\\n KNN, Decision Tree, Random Forrest, XG Boost and Neural Network')\n",
        "\n",
        "plt.show()"
      ],
      "metadata": {
        "colab": {
          "base_uri": "https://localhost:8080/",
          "height": 585
        },
        "id": "B4IgsXjTKVWc",
        "outputId": "826ac258-26f7-4ac2-eb1f-06a7be2a5f79"
      },
      "execution_count": 247,
      "outputs": [
        {
          "output_type": "display_data",
          "data": {
            "text/plain": [
              "<Figure size 800x600 with 1 Axes>"
            ],
            "image/png": "[encoded data removed]"
          },
          "metadata": {}
        }
      ]
    }
  ]
}